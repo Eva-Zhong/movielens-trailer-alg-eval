{
 "cells": [
  {
   "cell_type": "markdown",
   "metadata": {},
   "source": [
    "Data Date Range:\n",
    "    <br />Start time: 2016-05-05 09:40:26\n",
    "    <br />End time: 2018-01-17 01:59:42"
   ]
  },
  {
   "cell_type": "markdown",
   "metadata": {},
   "source": [
    "#### This notebook generates the following table:\n",
    "- recs_viewed_sessionid: recommended trailers that are viewed, and which session (of a login) it is viewed"
   ]
  },
  {
   "cell_type": "code",
   "execution_count": 1,
   "metadata": {
    "collapsed": true
   },
   "outputs": [],
   "source": [
    "import pandas as pd\n",
    "import numpy as np"
   ]
  },
  {
   "cell_type": "code",
   "execution_count": 22,
   "metadata": {
    "collapsed": true
   },
   "outputs": [],
   "source": [
    "action_data = pd.read_csv('../Clean_Data/log_trailer_actions_sessionIds.csv')"
   ]
  },
  {
   "cell_type": "code",
   "execution_count": 23,
   "metadata": {},
   "outputs": [
    {
     "data": {
      "text/html": [
       "<div>\n",
       "<style>\n",
       "    .dataframe thead tr:only-child th {\n",
       "        text-align: right;\n",
       "    }\n",
       "\n",
       "    .dataframe thead th {\n",
       "        text-align: left;\n",
       "    }\n",
       "\n",
       "    .dataframe tbody tr th {\n",
       "        vertical-align: top;\n",
       "    }\n",
       "</style>\n",
       "<table border=\"1\" class=\"dataframe\">\n",
       "  <thead>\n",
       "    <tr style=\"text-align: right;\">\n",
       "      <th></th>\n",
       "      <th>Unnamed: 0</th>\n",
       "      <th>userId</th>\n",
       "      <th>loginId</th>\n",
       "      <th>movieId</th>\n",
       "      <th>action</th>\n",
       "      <th>tstamp</th>\n",
       "      <th>position</th>\n",
       "      <th>sessionIds</th>\n",
       "    </tr>\n",
       "  </thead>\n",
       "  <tbody>\n",
       "    <tr>\n",
       "      <th>0</th>\n",
       "      <td>0</td>\n",
       "      <td>276159</td>\n",
       "      <td>008C57f</td>\n",
       "      <td>118985</td>\n",
       "      <td>PlayedFromLaunch</td>\n",
       "      <td>2016-09-12 13:53:04</td>\n",
       "      <td>0</td>\n",
       "      <td>1</td>\n",
       "    </tr>\n",
       "    <tr>\n",
       "      <th>1</th>\n",
       "      <td>1</td>\n",
       "      <td>276159</td>\n",
       "      <td>008C57f</td>\n",
       "      <td>118985</td>\n",
       "      <td>TrailerModalLaunched</td>\n",
       "      <td>2016-09-12 13:53:04</td>\n",
       "      <td>0</td>\n",
       "      <td>2</td>\n",
       "    </tr>\n",
       "    <tr>\n",
       "      <th>2</th>\n",
       "      <td>2</td>\n",
       "      <td>276159</td>\n",
       "      <td>008C57f</td>\n",
       "      <td>118985</td>\n",
       "      <td>TrailerModalShutdown</td>\n",
       "      <td>2016-09-12 13:55:31</td>\n",
       "      <td>0</td>\n",
       "      <td>2</td>\n",
       "    </tr>\n",
       "    <tr>\n",
       "      <th>3</th>\n",
       "      <td>3</td>\n",
       "      <td>276159</td>\n",
       "      <td>008C57f</td>\n",
       "      <td>157140</td>\n",
       "      <td>TrailerModalLaunched</td>\n",
       "      <td>2016-09-12 13:55:52</td>\n",
       "      <td>0</td>\n",
       "      <td>3</td>\n",
       "    </tr>\n",
       "    <tr>\n",
       "      <th>4</th>\n",
       "      <td>4</td>\n",
       "      <td>276159</td>\n",
       "      <td>008C57f</td>\n",
       "      <td>157140</td>\n",
       "      <td>PlayedFromLaunch</td>\n",
       "      <td>2016-09-12 13:55:53</td>\n",
       "      <td>0</td>\n",
       "      <td>3</td>\n",
       "    </tr>\n",
       "  </tbody>\n",
       "</table>\n",
       "</div>"
      ],
      "text/plain": [
       "   Unnamed: 0  userId  loginId  movieId                action  \\\n",
       "0           0  276159  008C57f   118985      PlayedFromLaunch   \n",
       "1           1  276159  008C57f   118985  TrailerModalLaunched   \n",
       "2           2  276159  008C57f   118985  TrailerModalShutdown   \n",
       "3           3  276159  008C57f   157140  TrailerModalLaunched   \n",
       "4           4  276159  008C57f   157140      PlayedFromLaunch   \n",
       "\n",
       "                tstamp  position  sessionIds  \n",
       "0  2016-09-12 13:53:04         0           1  \n",
       "1  2016-09-12 13:53:04         0           2  \n",
       "2  2016-09-12 13:55:31         0           2  \n",
       "3  2016-09-12 13:55:52         0           3  \n",
       "4  2016-09-12 13:55:53         0           3  "
      ]
     },
     "execution_count": 23,
     "metadata": {},
     "output_type": "execute_result"
    }
   ],
   "source": [
    "action_data.head()"
   ]
  },
  {
   "cell_type": "markdown",
   "metadata": {},
   "source": [
    "### Load the dataset with algorithm assignment in each session in the experiment"
   ]
  },
  {
   "cell_type": "markdown",
   "metadata": {},
   "source": [
    "The variable 'newassignment' stores information about the algorithm assignment of each login session, and is used in many sections, so we recommend you running the block below before running other sections. "
   ]
  },
  {
   "cell_type": "code",
   "execution_count": 24,
   "metadata": {},
   "outputs": [
    {
     "data": {
      "text/plain": [
       "(510939, 3)"
      ]
     },
     "execution_count": 24,
     "metadata": {},
     "output_type": "execute_result"
    }
   ],
   "source": [
    "# Get the algorithm assignment\n",
    "expt_trailer = pd.read_csv('../Data/expt_trailer.csv', sep=',')\n",
    "alg_assignment = expt_trailer[['userId','loginId','recommenderId']]\n",
    "alg_assignment.sort_values(by='recommenderId').shape\n"
   ]
  },
  {
   "cell_type": "markdown",
   "metadata": {},
   "source": [
    "### Generate a table recommendation played, with algorithm assignment"
   ]
  },
  {
   "cell_type": "markdown",
   "metadata": {},
   "source": [
    "If an action is among: \"PlayedFromNext\", \"PlayedFromRecommendation\", \"PlayedFromPrevious\", it means a recommendation is played, so we keep this row in the table."
   ]
  },
  {
   "cell_type": "code",
   "execution_count": 25,
   "metadata": {},
   "outputs": [
    {
     "data": {
      "text/html": [
       "<div>\n",
       "<style>\n",
       "    .dataframe thead tr:only-child th {\n",
       "        text-align: right;\n",
       "    }\n",
       "\n",
       "    .dataframe thead th {\n",
       "        text-align: left;\n",
       "    }\n",
       "\n",
       "    .dataframe tbody tr th {\n",
       "        vertical-align: top;\n",
       "    }\n",
       "</style>\n",
       "<table border=\"1\" class=\"dataframe\">\n",
       "  <thead>\n",
       "    <tr style=\"text-align: right;\">\n",
       "      <th></th>\n",
       "      <th>Unnamed: 0</th>\n",
       "      <th>userId</th>\n",
       "      <th>loginId</th>\n",
       "      <th>movieId</th>\n",
       "      <th>action</th>\n",
       "      <th>tstamp</th>\n",
       "      <th>position</th>\n",
       "      <th>sessionIds</th>\n",
       "      <th>recommenderId</th>\n",
       "    </tr>\n",
       "  </thead>\n",
       "  <tbody>\n",
       "    <tr>\n",
       "      <th>0</th>\n",
       "      <td>34</td>\n",
       "      <td>304211</td>\n",
       "      <td>00bSwKf</td>\n",
       "      <td>159193</td>\n",
       "      <td>PlayedFromRecommendation</td>\n",
       "      <td>2017-04-29 07:07:09</td>\n",
       "      <td>4</td>\n",
       "      <td>3</td>\n",
       "      <td>FilmReleaseDate</td>\n",
       "    </tr>\n",
       "    <tr>\n",
       "      <th>1</th>\n",
       "      <td>66</td>\n",
       "      <td>304211</td>\n",
       "      <td>00bSwKf</td>\n",
       "      <td>132800</td>\n",
       "      <td>PlayedFromRecommendation</td>\n",
       "      <td>2017-04-29 07:15:57</td>\n",
       "      <td>6</td>\n",
       "      <td>6</td>\n",
       "      <td>FilmReleaseDate</td>\n",
       "    </tr>\n",
       "    <tr>\n",
       "      <th>2</th>\n",
       "      <td>70</td>\n",
       "      <td>304211</td>\n",
       "      <td>00bSwKf</td>\n",
       "      <td>161966</td>\n",
       "      <td>PlayedFromRecommendation</td>\n",
       "      <td>2017-04-29 07:18:04</td>\n",
       "      <td>2</td>\n",
       "      <td>6</td>\n",
       "      <td>FilmReleaseDate</td>\n",
       "    </tr>\n",
       "    <tr>\n",
       "      <th>3</th>\n",
       "      <td>83</td>\n",
       "      <td>304211</td>\n",
       "      <td>00bSwKf</td>\n",
       "      <td>5617</td>\n",
       "      <td>PlayedFromRecommendation</td>\n",
       "      <td>2017-04-29 07:18:16</td>\n",
       "      <td>0</td>\n",
       "      <td>6</td>\n",
       "      <td>FilmReleaseDate</td>\n",
       "    </tr>\n",
       "    <tr>\n",
       "      <th>4</th>\n",
       "      <td>87</td>\n",
       "      <td>304211</td>\n",
       "      <td>00bSwKf</td>\n",
       "      <td>113829</td>\n",
       "      <td>PlayedFromRecommendation</td>\n",
       "      <td>2017-04-29 07:18:34</td>\n",
       "      <td>7</td>\n",
       "      <td>6</td>\n",
       "      <td>FilmReleaseDate</td>\n",
       "    </tr>\n",
       "  </tbody>\n",
       "</table>\n",
       "</div>"
      ],
      "text/plain": [
       "   Unnamed: 0  userId  loginId  movieId                    action  \\\n",
       "0          34  304211  00bSwKf   159193  PlayedFromRecommendation   \n",
       "1          66  304211  00bSwKf   132800  PlayedFromRecommendation   \n",
       "2          70  304211  00bSwKf   161966  PlayedFromRecommendation   \n",
       "3          83  304211  00bSwKf     5617  PlayedFromRecommendation   \n",
       "4          87  304211  00bSwKf   113829  PlayedFromRecommendation   \n",
       "\n",
       "                tstamp  position  sessionIds    recommenderId  \n",
       "0  2017-04-29 07:07:09         4           3  FilmReleaseDate  \n",
       "1  2017-04-29 07:15:57         6           6  FilmReleaseDate  \n",
       "2  2017-04-29 07:18:04         2           6  FilmReleaseDate  \n",
       "3  2017-04-29 07:18:16         0           6  FilmReleaseDate  \n",
       "4  2017-04-29 07:18:34         7           6  FilmReleaseDate  "
      ]
     },
     "execution_count": 25,
     "metadata": {},
     "output_type": "execute_result"
    }
   ],
   "source": [
    "# Trailers recommended by an algorithm and played, excluding 'PlayedFromYoutubePlayer'\n",
    "rec_played = action_data[action_data['action'].isin([\"PlayedFromNext\", \"PlayedFromRecommendation\", \"PlayedFromPrevious\"])]\n",
    "\n",
    "# Join the table of trailers recommended and played with the table of algorithm assignment\n",
    "rec_played_alg = pd.merge(rec_played, alg_assignment, on=['loginId','userId'], how='left')\n",
    "rec_played_alg.head()"
   ]
  },
  {
   "cell_type": "code",
   "execution_count": 26,
   "metadata": {
    "scrolled": true
   },
   "outputs": [
    {
     "data": {
      "text/html": [
       "<div>\n",
       "<style>\n",
       "    .dataframe thead tr:only-child th {\n",
       "        text-align: right;\n",
       "    }\n",
       "\n",
       "    .dataframe thead th {\n",
       "        text-align: left;\n",
       "    }\n",
       "\n",
       "    .dataframe tbody tr th {\n",
       "        vertical-align: top;\n",
       "    }\n",
       "</style>\n",
       "<table border=\"1\" class=\"dataframe\">\n",
       "  <thead>\n",
       "    <tr style=\"text-align: right;\">\n",
       "      <th></th>\n",
       "      <th>userId</th>\n",
       "      <th>loginId</th>\n",
       "      <th>movieId</th>\n",
       "      <th>action</th>\n",
       "      <th>tstamp</th>\n",
       "      <th>position</th>\n",
       "      <th>sessionIds</th>\n",
       "      <th>recommenderId</th>\n",
       "    </tr>\n",
       "  </thead>\n",
       "  <tbody>\n",
       "    <tr>\n",
       "      <th>0</th>\n",
       "      <td>304211</td>\n",
       "      <td>00bSwKf</td>\n",
       "      <td>159193</td>\n",
       "      <td>PlayedFromRecommendation</td>\n",
       "      <td>2017-04-29 07:07:09</td>\n",
       "      <td>4</td>\n",
       "      <td>3</td>\n",
       "      <td>FilmReleaseDate</td>\n",
       "    </tr>\n",
       "    <tr>\n",
       "      <th>1</th>\n",
       "      <td>304211</td>\n",
       "      <td>00bSwKf</td>\n",
       "      <td>132800</td>\n",
       "      <td>PlayedFromRecommendation</td>\n",
       "      <td>2017-04-29 07:15:57</td>\n",
       "      <td>6</td>\n",
       "      <td>6</td>\n",
       "      <td>FilmReleaseDate</td>\n",
       "    </tr>\n",
       "    <tr>\n",
       "      <th>2</th>\n",
       "      <td>304211</td>\n",
       "      <td>00bSwKf</td>\n",
       "      <td>161966</td>\n",
       "      <td>PlayedFromRecommendation</td>\n",
       "      <td>2017-04-29 07:18:04</td>\n",
       "      <td>2</td>\n",
       "      <td>6</td>\n",
       "      <td>FilmReleaseDate</td>\n",
       "    </tr>\n",
       "    <tr>\n",
       "      <th>3</th>\n",
       "      <td>304211</td>\n",
       "      <td>00bSwKf</td>\n",
       "      <td>5617</td>\n",
       "      <td>PlayedFromRecommendation</td>\n",
       "      <td>2017-04-29 07:18:16</td>\n",
       "      <td>0</td>\n",
       "      <td>6</td>\n",
       "      <td>FilmReleaseDate</td>\n",
       "    </tr>\n",
       "    <tr>\n",
       "      <th>4</th>\n",
       "      <td>304211</td>\n",
       "      <td>00bSwKf</td>\n",
       "      <td>113829</td>\n",
       "      <td>PlayedFromRecommendation</td>\n",
       "      <td>2017-04-29 07:18:34</td>\n",
       "      <td>7</td>\n",
       "      <td>6</td>\n",
       "      <td>FilmReleaseDate</td>\n",
       "    </tr>\n",
       "  </tbody>\n",
       "</table>\n",
       "</div>"
      ],
      "text/plain": [
       "   userId  loginId  movieId                    action               tstamp  \\\n",
       "0  304211  00bSwKf   159193  PlayedFromRecommendation  2017-04-29 07:07:09   \n",
       "1  304211  00bSwKf   132800  PlayedFromRecommendation  2017-04-29 07:15:57   \n",
       "2  304211  00bSwKf   161966  PlayedFromRecommendation  2017-04-29 07:18:04   \n",
       "3  304211  00bSwKf     5617  PlayedFromRecommendation  2017-04-29 07:18:16   \n",
       "4  304211  00bSwKf   113829  PlayedFromRecommendation  2017-04-29 07:18:34   \n",
       "\n",
       "   position  sessionIds    recommenderId  \n",
       "0         4           3  FilmReleaseDate  \n",
       "1         6           6  FilmReleaseDate  \n",
       "2         2           6  FilmReleaseDate  \n",
       "3         0           6  FilmReleaseDate  \n",
       "4         7           6  FilmReleaseDate  "
      ]
     },
     "execution_count": 26,
     "metadata": {},
     "output_type": "execute_result"
    }
   ],
   "source": [
    "# Fill in NaN values with the default value FilmReleaseDate\n",
    "# rec_played_alg['recommenderId'].fillna('FilmReleaseDate', inplace=True)\n",
    "\n",
    "# Or drop na values\n",
    "rec_played_alg2 = rec_played_alg.dropna(subset=['recommenderId']).copy()\n",
    "rec_played_alg2.drop(\"Unnamed: 0\",axis=1, inplace=True)\n",
    "rec_played_alg2.head()"
   ]
  },
  {
   "cell_type": "code",
   "execution_count": 27,
   "metadata": {},
   "outputs": [
    {
     "data": {
      "text/plain": [
       "userId           9142\n",
       "loginId          9142\n",
       "movieId          9142\n",
       "action           9142\n",
       "tstamp           9142\n",
       "position         9142\n",
       "sessionIds       9142\n",
       "recommenderId    9142\n",
       "dtype: int64"
      ]
     },
     "execution_count": 27,
     "metadata": {},
     "output_type": "execute_result"
    }
   ],
   "source": [
    "rec_played_alg2.count()"
   ]
  },
  {
   "cell_type": "code",
   "execution_count": 28,
   "metadata": {},
   "outputs": [
    {
     "data": {
      "text/html": [
       "<div>\n",
       "<style>\n",
       "    .dataframe thead tr:only-child th {\n",
       "        text-align: right;\n",
       "    }\n",
       "\n",
       "    .dataframe thead th {\n",
       "        text-align: left;\n",
       "    }\n",
       "\n",
       "    .dataframe tbody tr th {\n",
       "        vertical-align: top;\n",
       "    }\n",
       "</style>\n",
       "<table border=\"1\" class=\"dataframe\">\n",
       "  <thead>\n",
       "    <tr style=\"text-align: right;\">\n",
       "      <th></th>\n",
       "      <th>userId</th>\n",
       "      <th>loginId</th>\n",
       "      <th>movieId</th>\n",
       "      <th>tstamp</th>\n",
       "      <th>position</th>\n",
       "      <th>sessionIds</th>\n",
       "      <th>recommenderId</th>\n",
       "    </tr>\n",
       "    <tr>\n",
       "      <th>action</th>\n",
       "      <th></th>\n",
       "      <th></th>\n",
       "      <th></th>\n",
       "      <th></th>\n",
       "      <th></th>\n",
       "      <th></th>\n",
       "      <th></th>\n",
       "    </tr>\n",
       "  </thead>\n",
       "  <tbody>\n",
       "    <tr>\n",
       "      <th>PlayedFromNext</th>\n",
       "      <td>1335</td>\n",
       "      <td>1335</td>\n",
       "      <td>1335</td>\n",
       "      <td>1335</td>\n",
       "      <td>1335</td>\n",
       "      <td>1335</td>\n",
       "      <td>1335</td>\n",
       "    </tr>\n",
       "    <tr>\n",
       "      <th>PlayedFromPrevious</th>\n",
       "      <td>181</td>\n",
       "      <td>181</td>\n",
       "      <td>181</td>\n",
       "      <td>181</td>\n",
       "      <td>181</td>\n",
       "      <td>181</td>\n",
       "      <td>181</td>\n",
       "    </tr>\n",
       "    <tr>\n",
       "      <th>PlayedFromRecommendation</th>\n",
       "      <td>7626</td>\n",
       "      <td>7626</td>\n",
       "      <td>7626</td>\n",
       "      <td>7626</td>\n",
       "      <td>7626</td>\n",
       "      <td>7626</td>\n",
       "      <td>7626</td>\n",
       "    </tr>\n",
       "  </tbody>\n",
       "</table>\n",
       "</div>"
      ],
      "text/plain": [
       "                          userId  loginId  movieId  tstamp  position  \\\n",
       "action                                                                 \n",
       "PlayedFromNext              1335     1335     1335    1335      1335   \n",
       "PlayedFromPrevious           181      181      181     181       181   \n",
       "PlayedFromRecommendation    7626     7626     7626    7626      7626   \n",
       "\n",
       "                          sessionIds  recommenderId  \n",
       "action                                               \n",
       "PlayedFromNext                  1335           1335  \n",
       "PlayedFromPrevious               181            181  \n",
       "PlayedFromRecommendation        7626           7626  "
      ]
     },
     "execution_count": 28,
     "metadata": {},
     "output_type": "execute_result"
    }
   ],
   "source": [
    "rec_played_alg2.groupby(\"action\").count()"
   ]
  },
  {
   "cell_type": "code",
   "execution_count": 29,
   "metadata": {
    "collapsed": true
   },
   "outputs": [],
   "source": [
    "rec_played_alg2.to_csv(\"../Clean_Data/recs_viewed_sessionid.csv\")"
   ]
  },
  {
   "cell_type": "code",
   "execution_count": null,
   "metadata": {
    "collapsed": true
   },
   "outputs": [],
   "source": []
  }
 ],
 "metadata": {
  "kernelspec": {
   "display_name": "Python 3",
   "language": "python",
   "name": "python3"
  },
  "language_info": {
   "codemirror_mode": {
    "name": "ipython",
    "version": 3
   },
   "file_extension": ".py",
   "mimetype": "text/x-python",
   "name": "python",
   "nbconvert_exporter": "python",
   "pygments_lexer": "ipython3",
   "version": "3.6.4"
  }
 },
 "nbformat": 4,
 "nbformat_minor": 2
}
