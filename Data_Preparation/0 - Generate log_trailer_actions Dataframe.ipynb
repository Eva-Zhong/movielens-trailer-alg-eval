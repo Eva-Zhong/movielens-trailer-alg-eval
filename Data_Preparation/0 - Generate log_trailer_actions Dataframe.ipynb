{
 "cells": [
  {
   "cell_type": "markdown",
   "metadata": {},
   "source": [
    "Data Date Range:\n",
    "    <br />Start time: 2016-05-05 09:40:26\n",
    "    <br />End time: 2018-01-17 01:59:42\n",
    "\n",
    "This notebook gets all actions on the trailer modal before 2018-01-17 01:59:42. Researchers are excluded.  \n",
    "    \n",
    "#### This notebook generates the following table:\n",
    "- log_trailer_actions_sessionIds \n",
    "\n",
    "Users in each login can open the trailer modal many times. Each time they open the modal, we call it a new session and assign a new session ID. \n",
    "\n",
    "Session ID is helpful to match the recommendations a user received with information about the recommendations, especially their age (which is the time difference between film release date and date when they were recommended) "
   ]
  },
  {
   "cell_type": "markdown",
   "metadata": {},
   "source": [
    "### Import ###"
   ]
  },
  {
   "cell_type": "code",
   "execution_count": 1,
   "metadata": {},
   "outputs": [],
   "source": [
    "import numpy as np\n",
    "import pandas as pd"
   ]
  },
  {
   "cell_type": "markdown",
   "metadata": {},
   "source": [
    "### Load the dataset with specific actions in each login session in the experiment\n",
    "\n",
    "- The variable 'action_data' stores the table with logins, trailers, user actions, and is used in many other notebooks, so we create this dataset in this notebook.\n",
    "\n",
    "- We've excluded movielens users from this table\n"
   ]
  },
  {
   "cell_type": "code",
   "execution_count": 2,
   "metadata": {},
   "outputs": [],
   "source": [
    "fields = ['userId', 'loginId','movieId','positionInList','action','logJson']"
   ]
  },
  {
   "cell_type": "markdown",
   "metadata": {},
   "source": [
    "### Connect to database"
   ]
  },
  {
   "cell_type": "code",
   "execution_count": 4,
   "metadata": {},
   "outputs": [],
   "source": [
    "# 2.23.2018 Update: removed grouplens researchers\n",
    "\n",
    "# Connect to the database\n",
    "import pymysql.cursors\n",
    "import json\n",
    "import re\n",
    "\n",
    "# We will use these lists to generate a table later. \n",
    "\n",
    "sessionIds = []\n",
    "loginIds = []\n",
    "\n",
    "# Connect to the database\n",
    "connection = pymysql.connect(host=\"127.0.0.1\",\n",
    "                             user=\"web\",\n",
    "                             password=\"atth1132\",\n",
    "                             db=\"ML3_mirror\")\n",
    "\n",
    "try:\n",
    "    with connection.cursor() as cursor:\n",
    "        # This query select rows from log_trailer_actions where the action is either TrailerModalLaunched or Recommendations Refreshed\n",
    "        # These two actions indicate that a recommendation list is generated. \n",
    "        \n",
    "        sql = \"\"\"\n",
    "        SELECT log_trailer_actions.userId, log_trailer_actions.loginId, log_trailer_actions.movieId, log_trailer_actions.action, log_trailer_actions.tstamp, log_trailer_actions.positionInList        \n",
    "        FROM user_data\n",
    "        RIGHT JOIN log_trailer_actions\n",
    "        ON log_trailer_actions.userId = user_data.userId\n",
    "        WHERE log_trailer_actions.tstamp < '2018-01-17 01:59:42' AND user_data.excludeFromExperiments='N'\n",
    "        ORDER BY log_trailer_actions.loginId, log_trailer_actions.tstamp\n",
    "        \"\"\"\n",
    "        cursor.execute(sql)\n",
    "        loginIds.append(0)\n",
    "        sessionId = 1\n",
    "            \n",
    "        # Iterate each row in the query result\n",
    "        for row in cursor:\n",
    "            loginIds.append(row[1])\n",
    "            if (row[3] == 'TrailerModalLaunched'):\n",
    "                # If a new login, set sessionId = 1\n",
    "                if (loginIds[len(loginIds)-2] != row[1]):\n",
    "                    sessionId = 1\n",
    "#                     print(row)\n",
    "                # else, everytime a user launches the modal, increment sessionId by 1\n",
    "                else:\n",
    "                    sessionId = sessionId+1\n",
    "                    \n",
    "            sessionIds.append(sessionId)\n",
    "            \n",
    "        cursor.execute(sql)\n",
    "        result = cursor.fetchall()\n",
    "            \n",
    "finally: \n",
    "    connection.close()\n"
   ]
  },
  {
   "cell_type": "code",
   "execution_count": 5,
   "metadata": {},
   "outputs": [
    {
     "data": {
      "text/plain": [
       "[0,\n",
       " '008C57f',\n",
       " '008C57f',\n",
       " '008C57f',\n",
       " '008C57f',\n",
       " '008C57f',\n",
       " '008C57f',\n",
       " '008C57f',\n",
       " '009NNgE',\n",
       " '009NNgE']"
      ]
     },
     "execution_count": 5,
     "metadata": {},
     "output_type": "execute_result"
    }
   ],
   "source": [
    "loginIds[0:10]"
   ]
  },
  {
   "cell_type": "code",
   "execution_count": 6,
   "metadata": {},
   "outputs": [
    {
     "name": "stdout",
     "output_type": "stream",
     "text": [
      "1237423\n",
      "1237424\n"
     ]
    }
   ],
   "source": [
    "print(len(sessionIds))\n",
    "print(len(loginIds))"
   ]
  },
  {
   "cell_type": "code",
   "execution_count": 7,
   "metadata": {},
   "outputs": [],
   "source": [
    "# Removie dummy loginId\n",
    "loginIds = loginIds[1:]"
   ]
  },
  {
   "cell_type": "code",
   "execution_count": 8,
   "metadata": {},
   "outputs": [],
   "source": [
    "action_data = pd.DataFrame(list(result), columns=['userId','loginId','movieId','action','tstamp','position'])"
   ]
  },
  {
   "cell_type": "code",
   "execution_count": 9,
   "metadata": {},
   "outputs": [],
   "source": [
    "action_data['sessionIds'] = sessionIds"
   ]
  },
  {
   "cell_type": "code",
   "execution_count": 10,
   "metadata": {},
   "outputs": [
    {
     "data": {
      "text/html": [
       "<div>\n",
       "<style scoped>\n",
       "    .dataframe tbody tr th:only-of-type {\n",
       "        vertical-align: middle;\n",
       "    }\n",
       "\n",
       "    .dataframe tbody tr th {\n",
       "        vertical-align: top;\n",
       "    }\n",
       "\n",
       "    .dataframe thead th {\n",
       "        text-align: right;\n",
       "    }\n",
       "</style>\n",
       "<table border=\"1\" class=\"dataframe\">\n",
       "  <thead>\n",
       "    <tr style=\"text-align: right;\">\n",
       "      <th></th>\n",
       "      <th>userId</th>\n",
       "      <th>loginId</th>\n",
       "      <th>movieId</th>\n",
       "      <th>action</th>\n",
       "      <th>tstamp</th>\n",
       "      <th>position</th>\n",
       "      <th>sessionIds</th>\n",
       "    </tr>\n",
       "  </thead>\n",
       "  <tbody>\n",
       "    <tr>\n",
       "      <th>0</th>\n",
       "      <td>276159</td>\n",
       "      <td>008C57f</td>\n",
       "      <td>118985</td>\n",
       "      <td>PlayedFromLaunch</td>\n",
       "      <td>2016-09-12 13:53:04</td>\n",
       "      <td>0</td>\n",
       "      <td>1</td>\n",
       "    </tr>\n",
       "    <tr>\n",
       "      <th>1</th>\n",
       "      <td>276159</td>\n",
       "      <td>008C57f</td>\n",
       "      <td>118985</td>\n",
       "      <td>TrailerModalLaunched</td>\n",
       "      <td>2016-09-12 13:53:04</td>\n",
       "      <td>0</td>\n",
       "      <td>2</td>\n",
       "    </tr>\n",
       "    <tr>\n",
       "      <th>2</th>\n",
       "      <td>276159</td>\n",
       "      <td>008C57f</td>\n",
       "      <td>118985</td>\n",
       "      <td>TrailerModalShutdown</td>\n",
       "      <td>2016-09-12 13:55:31</td>\n",
       "      <td>0</td>\n",
       "      <td>2</td>\n",
       "    </tr>\n",
       "    <tr>\n",
       "      <th>3</th>\n",
       "      <td>276159</td>\n",
       "      <td>008C57f</td>\n",
       "      <td>157140</td>\n",
       "      <td>TrailerModalLaunched</td>\n",
       "      <td>2016-09-12 13:55:52</td>\n",
       "      <td>0</td>\n",
       "      <td>3</td>\n",
       "    </tr>\n",
       "    <tr>\n",
       "      <th>4</th>\n",
       "      <td>276159</td>\n",
       "      <td>008C57f</td>\n",
       "      <td>157140</td>\n",
       "      <td>PlayedFromLaunch</td>\n",
       "      <td>2016-09-12 13:55:53</td>\n",
       "      <td>0</td>\n",
       "      <td>3</td>\n",
       "    </tr>\n",
       "  </tbody>\n",
       "</table>\n",
       "</div>"
      ],
      "text/plain": [
       "   userId  loginId  movieId                action              tstamp  \\\n",
       "0  276159  008C57f   118985      PlayedFromLaunch 2016-09-12 13:53:04   \n",
       "1  276159  008C57f   118985  TrailerModalLaunched 2016-09-12 13:53:04   \n",
       "2  276159  008C57f   118985  TrailerModalShutdown 2016-09-12 13:55:31   \n",
       "3  276159  008C57f   157140  TrailerModalLaunched 2016-09-12 13:55:52   \n",
       "4  276159  008C57f   157140      PlayedFromLaunch 2016-09-12 13:55:53   \n",
       "\n",
       "   position  sessionIds  \n",
       "0         0           1  \n",
       "1         0           2  \n",
       "2         0           2  \n",
       "3         0           3  \n",
       "4         0           3  "
      ]
     },
     "execution_count": 10,
     "metadata": {},
     "output_type": "execute_result"
    }
   ],
   "source": [
    "action_data.head()"
   ]
  },
  {
   "cell_type": "code",
   "execution_count": 11,
   "metadata": {},
   "outputs": [],
   "source": [
    "# action_data.to_csv('../Clean_Data/log_trailer_actions_nojson.csv')\n",
    "\n",
    "# New dataframe with sessionIDs\n",
    "action_data.to_csv('../Clean_Data/log_trailer_actions_sessionIds.csv')"
   ]
  },
  {
   "cell_type": "code",
   "execution_count": null,
   "metadata": {},
   "outputs": [],
   "source": []
  }
 ],
 "metadata": {
  "kernelspec": {
   "display_name": "Python 3",
   "language": "python",
   "name": "python3"
  },
  "language_info": {
   "codemirror_mode": {
    "name": "ipython",
    "version": 3
   },
   "file_extension": ".py",
   "mimetype": "text/x-python",
   "name": "python",
   "nbconvert_exporter": "python",
   "pygments_lexer": "ipython3",
   "version": "3.6.5"
  }
 },
 "nbformat": 4,
 "nbformat_minor": 2
}
