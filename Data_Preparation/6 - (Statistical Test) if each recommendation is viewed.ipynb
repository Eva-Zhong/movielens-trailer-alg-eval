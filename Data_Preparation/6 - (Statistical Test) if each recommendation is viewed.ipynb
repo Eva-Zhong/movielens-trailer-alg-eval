{
 "cells": [
  {
   "cell_type": "markdown",
   "metadata": {},
   "source": [
    "#### This notebook creates the dataset used for statistical test (of the impact of algorithms)\n",
    "\n",
    "* A table with information of all recommendations, and whether they are viewed. \n",
    "\n",
    "In each login, each time a new list of recommendation is generated, we call it a new session. (Assign a new sessionId). Session ID helps us to merge recs information with recs viewed accurately.\n"
   ]
  },
  {
   "cell_type": "code",
   "execution_count": 2,
   "metadata": {},
   "outputs": [],
   "source": [
    "import pandas as pd\n",
    "import numpy as np"
   ]
  },
  {
   "cell_type": "code",
   "execution_count": 3,
   "metadata": {},
   "outputs": [],
   "source": [
    "# recs_viewed_sessionid is generated in 1.1 - (Statistical Test) Table - Rec Views SessionID\n",
    "recs_viewed_sessionId = pd.read_csv(\"../Clean_Data/recs_viewed_sessionid.csv\")"
   ]
  },
  {
   "cell_type": "code",
   "execution_count": 4,
   "metadata": {},
   "outputs": [
    {
     "data": {
      "text/plain": [
       "Unnamed: 0       9142\n",
       "userId           9142\n",
       "loginId          9142\n",
       "movieId          9142\n",
       "action           9142\n",
       "tstamp           9142\n",
       "position         9142\n",
       "sessionIds       9142\n",
       "recommenderId    9142\n",
       "dtype: int64"
      ]
     },
     "execution_count": 4,
     "metadata": {},
     "output_type": "execute_result"
    }
   ],
   "source": [
    "recs_viewed_sessionId.count()"
   ]
  },
  {
   "cell_type": "code",
   "execution_count": 5,
   "metadata": {},
   "outputs": [],
   "source": [
    "all_recs_info = pd.read_csv('../Clean_Data/rec_seed_info_with_position.csv')"
   ]
  },
  {
   "cell_type": "code",
   "execution_count": 6,
   "metadata": {
    "scrolled": true
   },
   "outputs": [
    {
     "data": {
      "text/plain": [
       "Algorithm                       1779511\n",
       "SeedMovie                       1779511\n",
       "loginId                         1779511\n",
       "movieId                         1779511\n",
       "position                        1779511\n",
       "sessionIds                      1779511\n",
       "userId                          1779511\n",
       "avgRating                       1779511\n",
       "popularityLastYear              1779511\n",
       "avgRating_seedmovie             1779511\n",
       "popularityLastYear_seedmovie    1779511\n",
       "ageMonth                        1779511\n",
       "age_seedmovie_month             1779511\n",
       "dtype: int64"
      ]
     },
     "execution_count": 6,
     "metadata": {},
     "output_type": "execute_result"
    }
   ],
   "source": [
    "all_recs_info.count()"
   ]
  },
  {
   "cell_type": "markdown",
   "metadata": {
    "collapsed": true
   },
   "source": [
    "#### Merge all_recs_info with recs_viewed_sessionId, by using loginId, sessionId, movieId  ⬇️"
   ]
  },
  {
   "cell_type": "code",
   "execution_count": 15,
   "metadata": {},
   "outputs": [],
   "source": [
    "merge_table = pd.merge(all_recs_info,recs_viewed_sessionId,on=[\"loginId\",\"sessionIds\",\"movieId\"],how=\"left\")"
   ]
  },
  {
   "cell_type": "code",
   "execution_count": 16,
   "metadata": {},
   "outputs": [],
   "source": [
    "merge_table['isViewed']=False"
   ]
  },
  {
   "cell_type": "code",
   "execution_count": 18,
   "metadata": {},
   "outputs": [],
   "source": [
    "merge_table.loc[merge_table.action.notnull(),'isViewed']=True"
   ]
  },
  {
   "cell_type": "code",
   "execution_count": 12,
   "metadata": {},
   "outputs": [],
   "source": [
    "merge_table.drop(['Unnamed: 0','userId_y','recommenderId'],axis=1,inplace=True)"
   ]
  },
  {
   "cell_type": "code",
   "execution_count": 14,
   "metadata": {
    "scrolled": true
   },
   "outputs": [
    {
     "data": {
      "text/plain": [
       "Algorithm                       1779642\n",
       "SeedMovie                       1779642\n",
       "loginId                         1779642\n",
       "movieId                         1779642\n",
       "position_x                      1779642\n",
       "sessionIds                      1779642\n",
       "userId_x                        1779642\n",
       "avgRating                       1779642\n",
       "popularityLastYear              1779642\n",
       "avgRating_seedmovie             1779642\n",
       "popularityLastYear_seedmovie    1779642\n",
       "ageMonth                        1779642\n",
       "age_seedmovie_month             1779642\n",
       "action                             7031\n",
       "tstamp                             7031\n",
       "position_y                         7031\n",
       "isViewed                        1779642\n",
       "dtype: int64"
      ]
     },
     "execution_count": 14,
     "metadata": {},
     "output_type": "execute_result"
    }
   ],
   "source": [
    "merge_table.count()"
   ]
  },
  {
   "cell_type": "code",
   "execution_count": 24,
   "metadata": {},
   "outputs": [],
   "source": [
    "merge_table.to_csv('../Clean_Data/rec_viewed_binary_5_03.csv')"
   ]
  }
 ],
 "metadata": {
  "kernelspec": {
   "display_name": "Python 3",
   "language": "python",
   "name": "python3"
  },
  "language_info": {
   "codemirror_mode": {
    "name": "ipython",
    "version": 3
   },
   "file_extension": ".py",
   "mimetype": "text/x-python",
   "name": "python",
   "nbconvert_exporter": "python",
   "pygments_lexer": "ipython3",
   "version": "3.6.4"
  }
 },
 "nbformat": 4,
 "nbformat_minor": 2
}
