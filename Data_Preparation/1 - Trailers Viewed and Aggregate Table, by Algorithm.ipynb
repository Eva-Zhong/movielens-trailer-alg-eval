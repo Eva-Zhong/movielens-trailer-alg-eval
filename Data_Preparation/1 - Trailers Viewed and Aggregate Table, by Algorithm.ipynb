{
 "cells": [
  {
   "cell_type": "markdown",
   "metadata": {},
   "source": [
    "Data Date Range:\n",
    "    <br />Start time: 2016-05-05 09:40:26\n",
    "    <br />End time: 2018-01-17 01:59:42"
   ]
  },
  {
   "cell_type": "markdown",
   "metadata": {},
   "source": [
    "#### This notebook:\n",
    "- Generate a table with total trailer viewed and their algorithm assignment\n",
    "- Generate a table with recommendations that are clicked and their algorithm assignment\n",
    "- Generate a aggregate table with count_total_played, count_rec_played, and algorithm assignment"
   ]
  },
  {
   "cell_type": "markdown",
   "metadata": {},
   "source": [
    "#### We will be using the 'log_trailer_actions_sessionIds' file, and here are some explanations of the 'actions' in this file. ####       \n",
    "##### If a user opens the trailer from the movie detail page: ####\n",
    "* TrailerModalLaunched: If a user opens the trailer from the movie detail page\n",
    "* PlayedFromLaunch: Happens right after 'TrailerModalLaunched'\n",
    "\n",
    "##### User clicked in the trailer interface to go to a different trailer recommended: ####\n",
    "* PlayedFromNext\n",
    "* PalyedFromPrevious\n",
    "* PlayedFromRecommendation\n"
   ]
  },
  {
   "cell_type": "markdown",
   "metadata": {},
   "source": [
    "#### This notebook generates the following table:\n",
    "- rec_played_alg: table with after recommendation clicks and algorithm assignment\n",
    "- total_rec_refresh_aggregate: an aggretable with count_total_played, count_rec_played, and algorithm assignment\n"
   ]
  },
  {
   "cell_type": "markdown",
   "metadata": {},
   "source": [
    "### Import ###"
   ]
  },
  {
   "cell_type": "code",
   "execution_count": 1,
   "metadata": {},
   "outputs": [],
   "source": [
    "import pandas as pd\n",
    "import numpy as np"
   ]
  },
  {
   "cell_type": "markdown",
   "metadata": {},
   "source": [
    "#### Need to run 0 - Generate log_trailer_actions Dataframe before doing the following"
   ]
  },
  {
   "cell_type": "code",
   "execution_count": 2,
   "metadata": {},
   "outputs": [],
   "source": [
    "action_data = pd.read_csv('../Clean_Data/log_trailer_actions_sessionIds.csv')"
   ]
  },
  {
   "cell_type": "markdown",
   "metadata": {},
   "source": [
    "### Load the dataset with algorithm assignment in each session in the experiment"
   ]
  },
  {
   "cell_type": "code",
   "execution_count": 8,
   "metadata": {},
   "outputs": [
    {
     "data": {
      "text/html": [
       "<div>\n",
       "<style scoped>\n",
       "    .dataframe tbody tr th:only-of-type {\n",
       "        vertical-align: middle;\n",
       "    }\n",
       "\n",
       "    .dataframe tbody tr th {\n",
       "        vertical-align: top;\n",
       "    }\n",
       "\n",
       "    .dataframe thead th {\n",
       "        text-align: right;\n",
       "    }\n",
       "</style>\n",
       "<table border=\"1\" class=\"dataframe\">\n",
       "  <thead>\n",
       "    <tr style=\"text-align: right;\">\n",
       "      <th></th>\n",
       "      <th>userId</th>\n",
       "      <th>loginId</th>\n",
       "      <th>recommenderId</th>\n",
       "    </tr>\n",
       "  </thead>\n",
       "  <tbody>\n",
       "    <tr>\n",
       "      <th>0</th>\n",
       "      <td>1892</td>\n",
       "      <td>04nVLGw</td>\n",
       "      <td>PredictedRating</td>\n",
       "    </tr>\n",
       "    <tr>\n",
       "      <th>1</th>\n",
       "      <td>1892</td>\n",
       "      <td>05UYXbK</td>\n",
       "      <td>FilmReleaseDate</td>\n",
       "    </tr>\n",
       "    <tr>\n",
       "      <th>2</th>\n",
       "      <td>1892</td>\n",
       "      <td>0Cjojur</td>\n",
       "      <td>FilmReleaseDate</td>\n",
       "    </tr>\n",
       "    <tr>\n",
       "      <th>3</th>\n",
       "      <td>1892</td>\n",
       "      <td>0fCo1lB</td>\n",
       "      <td>FilmReleaseDate</td>\n",
       "    </tr>\n",
       "    <tr>\n",
       "      <th>4</th>\n",
       "      <td>1892</td>\n",
       "      <td>0GvsUHM</td>\n",
       "      <td>FilmReleaseDate</td>\n",
       "    </tr>\n",
       "  </tbody>\n",
       "</table>\n",
       "</div>"
      ],
      "text/plain": [
       "   userId  loginId    recommenderId\n",
       "0    1892  04nVLGw  PredictedRating\n",
       "1    1892  05UYXbK  FilmReleaseDate\n",
       "2    1892  0Cjojur  FilmReleaseDate\n",
       "3    1892  0fCo1lB  FilmReleaseDate\n",
       "4    1892  0GvsUHM  FilmReleaseDate"
      ]
     },
     "execution_count": 8,
     "metadata": {},
     "output_type": "execute_result"
    }
   ],
   "source": [
    "# Get the algorithm assignment\n",
    "expt_trailer = pd.read_csv('../Clean_Data/expt_trailer.csv', sep=',')\n",
    "alg_assignment = expt_trailer[['userId','loginId','recommenderId']]\n",
    "alg_assignment.sort_values(by='recommenderId').shape\n",
    "alg_assignment.head()"
   ]
  },
  {
   "cell_type": "markdown",
   "metadata": {},
   "source": [
    "### Rec_played (recommended trailers that are clicked on) and Algorithm"
   ]
  },
  {
   "cell_type": "markdown",
   "metadata": {},
   "source": [
    "If an action is among: \"PlayedFromNext\", \"PlayedFromRecommendation\", \"PlayedFromPrevious\", it means a recommendation is played, so we keep this row in the table."
   ]
  },
  {
   "cell_type": "code",
   "execution_count": 9,
   "metadata": {},
   "outputs": [
    {
     "data": {
      "text/html": [
       "<div>\n",
       "<style scoped>\n",
       "    .dataframe tbody tr th:only-of-type {\n",
       "        vertical-align: middle;\n",
       "    }\n",
       "\n",
       "    .dataframe tbody tr th {\n",
       "        vertical-align: top;\n",
       "    }\n",
       "\n",
       "    .dataframe thead th {\n",
       "        text-align: right;\n",
       "    }\n",
       "</style>\n",
       "<table border=\"1\" class=\"dataframe\">\n",
       "  <thead>\n",
       "    <tr style=\"text-align: right;\">\n",
       "      <th></th>\n",
       "      <th>Unnamed: 0</th>\n",
       "      <th>userId</th>\n",
       "      <th>loginId</th>\n",
       "      <th>movieId</th>\n",
       "      <th>action</th>\n",
       "      <th>tstamp</th>\n",
       "      <th>position</th>\n",
       "      <th>sessionIds</th>\n",
       "      <th>recommenderId</th>\n",
       "    </tr>\n",
       "  </thead>\n",
       "  <tbody>\n",
       "    <tr>\n",
       "      <th>0</th>\n",
       "      <td>34</td>\n",
       "      <td>304211</td>\n",
       "      <td>00bSwKf</td>\n",
       "      <td>159193</td>\n",
       "      <td>PlayedFromRecommendation</td>\n",
       "      <td>2017-04-29 07:07:09</td>\n",
       "      <td>4</td>\n",
       "      <td>3</td>\n",
       "      <td>FilmReleaseDate</td>\n",
       "    </tr>\n",
       "    <tr>\n",
       "      <th>1</th>\n",
       "      <td>66</td>\n",
       "      <td>304211</td>\n",
       "      <td>00bSwKf</td>\n",
       "      <td>132800</td>\n",
       "      <td>PlayedFromRecommendation</td>\n",
       "      <td>2017-04-29 07:15:57</td>\n",
       "      <td>6</td>\n",
       "      <td>6</td>\n",
       "      <td>FilmReleaseDate</td>\n",
       "    </tr>\n",
       "    <tr>\n",
       "      <th>2</th>\n",
       "      <td>70</td>\n",
       "      <td>304211</td>\n",
       "      <td>00bSwKf</td>\n",
       "      <td>161966</td>\n",
       "      <td>PlayedFromRecommendation</td>\n",
       "      <td>2017-04-29 07:18:04</td>\n",
       "      <td>2</td>\n",
       "      <td>6</td>\n",
       "      <td>FilmReleaseDate</td>\n",
       "    </tr>\n",
       "    <tr>\n",
       "      <th>3</th>\n",
       "      <td>83</td>\n",
       "      <td>304211</td>\n",
       "      <td>00bSwKf</td>\n",
       "      <td>5617</td>\n",
       "      <td>PlayedFromRecommendation</td>\n",
       "      <td>2017-04-29 07:18:16</td>\n",
       "      <td>0</td>\n",
       "      <td>6</td>\n",
       "      <td>FilmReleaseDate</td>\n",
       "    </tr>\n",
       "    <tr>\n",
       "      <th>4</th>\n",
       "      <td>87</td>\n",
       "      <td>304211</td>\n",
       "      <td>00bSwKf</td>\n",
       "      <td>113829</td>\n",
       "      <td>PlayedFromRecommendation</td>\n",
       "      <td>2017-04-29 07:18:34</td>\n",
       "      <td>7</td>\n",
       "      <td>6</td>\n",
       "      <td>FilmReleaseDate</td>\n",
       "    </tr>\n",
       "  </tbody>\n",
       "</table>\n",
       "</div>"
      ],
      "text/plain": [
       "   Unnamed: 0  userId  loginId  movieId                    action  \\\n",
       "0          34  304211  00bSwKf   159193  PlayedFromRecommendation   \n",
       "1          66  304211  00bSwKf   132800  PlayedFromRecommendation   \n",
       "2          70  304211  00bSwKf   161966  PlayedFromRecommendation   \n",
       "3          83  304211  00bSwKf     5617  PlayedFromRecommendation   \n",
       "4          87  304211  00bSwKf   113829  PlayedFromRecommendation   \n",
       "\n",
       "                tstamp  position  sessionIds    recommenderId  \n",
       "0  2017-04-29 07:07:09         4           3  FilmReleaseDate  \n",
       "1  2017-04-29 07:15:57         6           6  FilmReleaseDate  \n",
       "2  2017-04-29 07:18:04         2           6  FilmReleaseDate  \n",
       "3  2017-04-29 07:18:16         0           6  FilmReleaseDate  \n",
       "4  2017-04-29 07:18:34         7           6  FilmReleaseDate  "
      ]
     },
     "execution_count": 9,
     "metadata": {},
     "output_type": "execute_result"
    }
   ],
   "source": [
    "# Trailers recommended by an algorithm and played, excluding 'PlayedFromYoutubePlayer'\n",
    "rec_played = action_data[action_data['action'].isin([\"PlayedFromNext\", \"PlayedFromRecommendation\", \"PlayedFromPrevious\"])]\n",
    "\n",
    "# Join the table of trailers recommended and played with the table of algorithm assignment\n",
    "rec_played_alg = pd.merge(rec_played, alg_assignment, on=['loginId','userId'], how='left')\n",
    "rec_played_alg.head()"
   ]
  },
  {
   "cell_type": "code",
   "execution_count": 10,
   "metadata": {
    "scrolled": false
   },
   "outputs": [],
   "source": [
    "# Drop rows without recommender assignment\n",
    "rec_played_alg2 = rec_played_alg.dropna(subset=['recommenderId'])\n"
   ]
  },
  {
   "cell_type": "code",
   "execution_count": 11,
   "metadata": {},
   "outputs": [
    {
     "data": {
      "text/plain": [
       "Unnamed: 0       9137\n",
       "userId           9137\n",
       "loginId          9137\n",
       "movieId          9137\n",
       "action           9137\n",
       "tstamp           9137\n",
       "position         9137\n",
       "sessionIds       9137\n",
       "recommenderId    9137\n",
       "dtype: int64"
      ]
     },
     "execution_count": 11,
     "metadata": {},
     "output_type": "execute_result"
    }
   ],
   "source": [
    "rec_played_alg2.count()"
   ]
  },
  {
   "cell_type": "code",
   "execution_count": 12,
   "metadata": {},
   "outputs": [],
   "source": [
    "rec_played_alg2.to_csv(\"../Clean_Data/rec_played_alg.csv\", index=False)"
   ]
  },
  {
   "cell_type": "code",
   "execution_count": 13,
   "metadata": {
    "scrolled": true
   },
   "outputs": [
    {
     "data": {
      "text/html": [
       "<div>\n",
       "<style scoped>\n",
       "    .dataframe tbody tr th:only-of-type {\n",
       "        vertical-align: middle;\n",
       "    }\n",
       "\n",
       "    .dataframe tbody tr th {\n",
       "        vertical-align: top;\n",
       "    }\n",
       "\n",
       "    .dataframe thead th {\n",
       "        text-align: right;\n",
       "    }\n",
       "</style>\n",
       "<table border=\"1\" class=\"dataframe\">\n",
       "  <thead>\n",
       "    <tr style=\"text-align: right;\">\n",
       "      <th></th>\n",
       "      <th>userId</th>\n",
       "      <th>loginId</th>\n",
       "      <th>recommenderId</th>\n",
       "      <th>count_rec_played</th>\n",
       "    </tr>\n",
       "  </thead>\n",
       "  <tbody>\n",
       "    <tr>\n",
       "      <th>0</th>\n",
       "      <td>43115</td>\n",
       "      <td>TYJlPxZ</td>\n",
       "      <td>TagSimilarity</td>\n",
       "      <td>2</td>\n",
       "    </tr>\n",
       "    <tr>\n",
       "      <th>1</th>\n",
       "      <td>43115</td>\n",
       "      <td>bl2JVsA</td>\n",
       "      <td>ShuffledTopPicks</td>\n",
       "      <td>2</td>\n",
       "    </tr>\n",
       "    <tr>\n",
       "      <th>2</th>\n",
       "      <td>43115</td>\n",
       "      <td>hwYZBXR</td>\n",
       "      <td>TagSimilarity</td>\n",
       "      <td>3</td>\n",
       "    </tr>\n",
       "    <tr>\n",
       "      <th>3</th>\n",
       "      <td>43115</td>\n",
       "      <td>nXM5hHL</td>\n",
       "      <td>ShuffledTopPicks</td>\n",
       "      <td>2</td>\n",
       "    </tr>\n",
       "    <tr>\n",
       "      <th>4</th>\n",
       "      <td>47315</td>\n",
       "      <td>QCQcblN</td>\n",
       "      <td>ShuffledTopPicks</td>\n",
       "      <td>1</td>\n",
       "    </tr>\n",
       "  </tbody>\n",
       "</table>\n",
       "</div>"
      ],
      "text/plain": [
       "   userId  loginId     recommenderId  count_rec_played\n",
       "0   43115  TYJlPxZ     TagSimilarity                 2\n",
       "1   43115  bl2JVsA  ShuffledTopPicks                 2\n",
       "2   43115  hwYZBXR     TagSimilarity                 3\n",
       "3   43115  nXM5hHL  ShuffledTopPicks                 2\n",
       "4   47315  QCQcblN  ShuffledTopPicks                 1"
      ]
     },
     "execution_count": 13,
     "metadata": {},
     "output_type": "execute_result"
    }
   ],
   "source": [
    "# Find out the count of recommended trailers played in a session:\n",
    "rec_played_alg_count = rec_played_alg2.groupby(['userId','loginId','recommenderId'])['movieId'].count().reset_index(name=\"count_rec_played\")\n",
    "rec_played_alg_count.head()"
   ]
  },
  {
   "cell_type": "markdown",
   "metadata": {},
   "source": [
    "#### Get content information of these recommendations"
   ]
  },
  {
   "cell_type": "code",
   "execution_count": 14,
   "metadata": {},
   "outputs": [
    {
     "ename": "FileNotFoundError",
     "evalue": "File b'../Clean_Data/rec_seed_info.csv' does not exist",
     "output_type": "error",
     "traceback": [
      "\u001b[0;31m---------------------------------------------------------------------------\u001b[0m",
      "\u001b[0;31mFileNotFoundError\u001b[0m                         Traceback (most recent call last)",
      "\u001b[0;32m<ipython-input-14-387345de91e9>\u001b[0m in \u001b[0;36m<module>\u001b[0;34m()\u001b[0m\n\u001b[0;32m----> 1\u001b[0;31m \u001b[0mrec_seed_info\u001b[0m \u001b[0;34m=\u001b[0m \u001b[0mpd\u001b[0m\u001b[0;34m.\u001b[0m\u001b[0mread_csv\u001b[0m\u001b[0;34m(\u001b[0m\u001b[0;34m\"../Clean_Data/rec_seed_info.csv\"\u001b[0m\u001b[0;34m)\u001b[0m\u001b[0;34m\u001b[0m\u001b[0m\n\u001b[0m",
      "\u001b[0;32m~/anaconda3/lib/python3.6/site-packages/pandas/io/parsers.py\u001b[0m in \u001b[0;36mparser_f\u001b[0;34m(filepath_or_buffer, sep, delimiter, header, names, index_col, usecols, squeeze, prefix, mangle_dupe_cols, dtype, engine, converters, true_values, false_values, skipinitialspace, skiprows, nrows, na_values, keep_default_na, na_filter, verbose, skip_blank_lines, parse_dates, infer_datetime_format, keep_date_col, date_parser, dayfirst, iterator, chunksize, compression, thousands, decimal, lineterminator, quotechar, quoting, escapechar, comment, encoding, dialect, tupleize_cols, error_bad_lines, warn_bad_lines, skipfooter, doublequote, delim_whitespace, low_memory, memory_map, float_precision)\u001b[0m\n\u001b[1;32m    676\u001b[0m                     skip_blank_lines=skip_blank_lines)\n\u001b[1;32m    677\u001b[0m \u001b[0;34m\u001b[0m\u001b[0m\n\u001b[0;32m--> 678\u001b[0;31m         \u001b[0;32mreturn\u001b[0m \u001b[0m_read\u001b[0m\u001b[0;34m(\u001b[0m\u001b[0mfilepath_or_buffer\u001b[0m\u001b[0;34m,\u001b[0m \u001b[0mkwds\u001b[0m\u001b[0;34m)\u001b[0m\u001b[0;34m\u001b[0m\u001b[0m\n\u001b[0m\u001b[1;32m    679\u001b[0m \u001b[0;34m\u001b[0m\u001b[0m\n\u001b[1;32m    680\u001b[0m     \u001b[0mparser_f\u001b[0m\u001b[0;34m.\u001b[0m\u001b[0m__name__\u001b[0m \u001b[0;34m=\u001b[0m \u001b[0mname\u001b[0m\u001b[0;34m\u001b[0m\u001b[0m\n",
      "\u001b[0;32m~/anaconda3/lib/python3.6/site-packages/pandas/io/parsers.py\u001b[0m in \u001b[0;36m_read\u001b[0;34m(filepath_or_buffer, kwds)\u001b[0m\n\u001b[1;32m    438\u001b[0m \u001b[0;34m\u001b[0m\u001b[0m\n\u001b[1;32m    439\u001b[0m     \u001b[0;31m# Create the parser.\u001b[0m\u001b[0;34m\u001b[0m\u001b[0;34m\u001b[0m\u001b[0m\n\u001b[0;32m--> 440\u001b[0;31m     \u001b[0mparser\u001b[0m \u001b[0;34m=\u001b[0m \u001b[0mTextFileReader\u001b[0m\u001b[0;34m(\u001b[0m\u001b[0mfilepath_or_buffer\u001b[0m\u001b[0;34m,\u001b[0m \u001b[0;34m**\u001b[0m\u001b[0mkwds\u001b[0m\u001b[0;34m)\u001b[0m\u001b[0;34m\u001b[0m\u001b[0m\n\u001b[0m\u001b[1;32m    441\u001b[0m \u001b[0;34m\u001b[0m\u001b[0m\n\u001b[1;32m    442\u001b[0m     \u001b[0;32mif\u001b[0m \u001b[0mchunksize\u001b[0m \u001b[0;32mor\u001b[0m \u001b[0miterator\u001b[0m\u001b[0;34m:\u001b[0m\u001b[0;34m\u001b[0m\u001b[0m\n",
      "\u001b[0;32m~/anaconda3/lib/python3.6/site-packages/pandas/io/parsers.py\u001b[0m in \u001b[0;36m__init__\u001b[0;34m(self, f, engine, **kwds)\u001b[0m\n\u001b[1;32m    785\u001b[0m             \u001b[0mself\u001b[0m\u001b[0;34m.\u001b[0m\u001b[0moptions\u001b[0m\u001b[0;34m[\u001b[0m\u001b[0;34m'has_index_names'\u001b[0m\u001b[0;34m]\u001b[0m \u001b[0;34m=\u001b[0m \u001b[0mkwds\u001b[0m\u001b[0;34m[\u001b[0m\u001b[0;34m'has_index_names'\u001b[0m\u001b[0;34m]\u001b[0m\u001b[0;34m\u001b[0m\u001b[0m\n\u001b[1;32m    786\u001b[0m \u001b[0;34m\u001b[0m\u001b[0m\n\u001b[0;32m--> 787\u001b[0;31m         \u001b[0mself\u001b[0m\u001b[0;34m.\u001b[0m\u001b[0m_make_engine\u001b[0m\u001b[0;34m(\u001b[0m\u001b[0mself\u001b[0m\u001b[0;34m.\u001b[0m\u001b[0mengine\u001b[0m\u001b[0;34m)\u001b[0m\u001b[0;34m\u001b[0m\u001b[0m\n\u001b[0m\u001b[1;32m    788\u001b[0m \u001b[0;34m\u001b[0m\u001b[0m\n\u001b[1;32m    789\u001b[0m     \u001b[0;32mdef\u001b[0m \u001b[0mclose\u001b[0m\u001b[0;34m(\u001b[0m\u001b[0mself\u001b[0m\u001b[0;34m)\u001b[0m\u001b[0;34m:\u001b[0m\u001b[0;34m\u001b[0m\u001b[0m\n",
      "\u001b[0;32m~/anaconda3/lib/python3.6/site-packages/pandas/io/parsers.py\u001b[0m in \u001b[0;36m_make_engine\u001b[0;34m(self, engine)\u001b[0m\n\u001b[1;32m   1012\u001b[0m     \u001b[0;32mdef\u001b[0m \u001b[0m_make_engine\u001b[0m\u001b[0;34m(\u001b[0m\u001b[0mself\u001b[0m\u001b[0;34m,\u001b[0m \u001b[0mengine\u001b[0m\u001b[0;34m=\u001b[0m\u001b[0;34m'c'\u001b[0m\u001b[0;34m)\u001b[0m\u001b[0;34m:\u001b[0m\u001b[0;34m\u001b[0m\u001b[0m\n\u001b[1;32m   1013\u001b[0m         \u001b[0;32mif\u001b[0m \u001b[0mengine\u001b[0m \u001b[0;34m==\u001b[0m \u001b[0;34m'c'\u001b[0m\u001b[0;34m:\u001b[0m\u001b[0;34m\u001b[0m\u001b[0m\n\u001b[0;32m-> 1014\u001b[0;31m             \u001b[0mself\u001b[0m\u001b[0;34m.\u001b[0m\u001b[0m_engine\u001b[0m \u001b[0;34m=\u001b[0m \u001b[0mCParserWrapper\u001b[0m\u001b[0;34m(\u001b[0m\u001b[0mself\u001b[0m\u001b[0;34m.\u001b[0m\u001b[0mf\u001b[0m\u001b[0;34m,\u001b[0m \u001b[0;34m**\u001b[0m\u001b[0mself\u001b[0m\u001b[0;34m.\u001b[0m\u001b[0moptions\u001b[0m\u001b[0;34m)\u001b[0m\u001b[0;34m\u001b[0m\u001b[0m\n\u001b[0m\u001b[1;32m   1015\u001b[0m         \u001b[0;32melse\u001b[0m\u001b[0;34m:\u001b[0m\u001b[0;34m\u001b[0m\u001b[0m\n\u001b[1;32m   1016\u001b[0m             \u001b[0;32mif\u001b[0m \u001b[0mengine\u001b[0m \u001b[0;34m==\u001b[0m \u001b[0;34m'python'\u001b[0m\u001b[0;34m:\u001b[0m\u001b[0;34m\u001b[0m\u001b[0m\n",
      "\u001b[0;32m~/anaconda3/lib/python3.6/site-packages/pandas/io/parsers.py\u001b[0m in \u001b[0;36m__init__\u001b[0;34m(self, src, **kwds)\u001b[0m\n\u001b[1;32m   1706\u001b[0m         \u001b[0mkwds\u001b[0m\u001b[0;34m[\u001b[0m\u001b[0;34m'usecols'\u001b[0m\u001b[0;34m]\u001b[0m \u001b[0;34m=\u001b[0m \u001b[0mself\u001b[0m\u001b[0;34m.\u001b[0m\u001b[0musecols\u001b[0m\u001b[0;34m\u001b[0m\u001b[0m\n\u001b[1;32m   1707\u001b[0m \u001b[0;34m\u001b[0m\u001b[0m\n\u001b[0;32m-> 1708\u001b[0;31m         \u001b[0mself\u001b[0m\u001b[0;34m.\u001b[0m\u001b[0m_reader\u001b[0m \u001b[0;34m=\u001b[0m \u001b[0mparsers\u001b[0m\u001b[0;34m.\u001b[0m\u001b[0mTextReader\u001b[0m\u001b[0;34m(\u001b[0m\u001b[0msrc\u001b[0m\u001b[0;34m,\u001b[0m \u001b[0;34m**\u001b[0m\u001b[0mkwds\u001b[0m\u001b[0;34m)\u001b[0m\u001b[0;34m\u001b[0m\u001b[0m\n\u001b[0m\u001b[1;32m   1709\u001b[0m \u001b[0;34m\u001b[0m\u001b[0m\n\u001b[1;32m   1710\u001b[0m         \u001b[0mpassed_names\u001b[0m \u001b[0;34m=\u001b[0m \u001b[0mself\u001b[0m\u001b[0;34m.\u001b[0m\u001b[0mnames\u001b[0m \u001b[0;32mis\u001b[0m \u001b[0;32mNone\u001b[0m\u001b[0;34m\u001b[0m\u001b[0m\n",
      "\u001b[0;32mpandas/_libs/parsers.pyx\u001b[0m in \u001b[0;36mpandas._libs.parsers.TextReader.__cinit__\u001b[0;34m()\u001b[0m\n",
      "\u001b[0;32mpandas/_libs/parsers.pyx\u001b[0m in \u001b[0;36mpandas._libs.parsers.TextReader._setup_parser_source\u001b[0;34m()\u001b[0m\n",
      "\u001b[0;31mFileNotFoundError\u001b[0m: File b'../Clean_Data/rec_seed_info.csv' does not exist"
     ]
    }
   ],
   "source": [
    "rec_seed_info = pd.read_csv(\"../Clean_Data/rec_seed_info.csv\")"
   ]
  },
  {
   "cell_type": "code",
   "execution_count": 39,
   "metadata": {},
   "outputs": [
    {
     "data": {
      "text/html": [
       "<div>\n",
       "<style>\n",
       "    .dataframe thead tr:only-child th {\n",
       "        text-align: right;\n",
       "    }\n",
       "\n",
       "    .dataframe thead th {\n",
       "        text-align: left;\n",
       "    }\n",
       "\n",
       "    .dataframe tbody tr th {\n",
       "        vertical-align: top;\n",
       "    }\n",
       "</style>\n",
       "<table border=\"1\" class=\"dataframe\">\n",
       "  <thead>\n",
       "    <tr style=\"text-align: right;\">\n",
       "      <th></th>\n",
       "      <th>Algorithm</th>\n",
       "      <th>SeedMovie</th>\n",
       "      <th>loginId</th>\n",
       "      <th>movieId</th>\n",
       "      <th>sessionIds</th>\n",
       "      <th>userId</th>\n",
       "      <th>avgRating</th>\n",
       "      <th>popularityLastYear</th>\n",
       "      <th>avgRating_seedmovie</th>\n",
       "      <th>popularityLastYear_seedmovie</th>\n",
       "      <th>age_month</th>\n",
       "      <th>age_seedmovie_month</th>\n",
       "    </tr>\n",
       "  </thead>\n",
       "  <tbody>\n",
       "    <tr>\n",
       "      <th>0</th>\n",
       "      <td>PredictedRating</td>\n",
       "      <td>118985</td>\n",
       "      <td>008C57f</td>\n",
       "      <td>318</td>\n",
       "      <td>1</td>\n",
       "      <td>276159</td>\n",
       "      <td>4.43</td>\n",
       "      <td>7047.0</td>\n",
       "      <td>3.4</td>\n",
       "      <td>159.0</td>\n",
       "      <td>267.50</td>\n",
       "      <td>20.0</td>\n",
       "    </tr>\n",
       "    <tr>\n",
       "      <th>1</th>\n",
       "      <td>PredictedRating</td>\n",
       "      <td>118985</td>\n",
       "      <td>008C57f</td>\n",
       "      <td>93721</td>\n",
       "      <td>1</td>\n",
       "      <td>276159</td>\n",
       "      <td>3.95</td>\n",
       "      <td>229.0</td>\n",
       "      <td>3.4</td>\n",
       "      <td>159.0</td>\n",
       "      <td>63.87</td>\n",
       "      <td>20.0</td>\n",
       "    </tr>\n",
       "    <tr>\n",
       "      <th>2</th>\n",
       "      <td>PredictedRating</td>\n",
       "      <td>118985</td>\n",
       "      <td>008C57f</td>\n",
       "      <td>148626</td>\n",
       "      <td>1</td>\n",
       "      <td>276159</td>\n",
       "      <td>4.01</td>\n",
       "      <td>1744.0</td>\n",
       "      <td>3.4</td>\n",
       "      <td>159.0</td>\n",
       "      <td>9.17</td>\n",
       "      <td>20.0</td>\n",
       "    </tr>\n",
       "    <tr>\n",
       "      <th>3</th>\n",
       "      <td>PredictedRating</td>\n",
       "      <td>118985</td>\n",
       "      <td>008C57f</td>\n",
       "      <td>2966</td>\n",
       "      <td>1</td>\n",
       "      <td>276159</td>\n",
       "      <td>3.93</td>\n",
       "      <td>94.0</td>\n",
       "      <td>3.4</td>\n",
       "      <td>159.0</td>\n",
       "      <td>205.90</td>\n",
       "      <td>20.0</td>\n",
       "    </tr>\n",
       "    <tr>\n",
       "      <th>4</th>\n",
       "      <td>PredictedRating</td>\n",
       "      <td>118985</td>\n",
       "      <td>008C57f</td>\n",
       "      <td>81845</td>\n",
       "      <td>1</td>\n",
       "      <td>276159</td>\n",
       "      <td>3.93</td>\n",
       "      <td>2032.0</td>\n",
       "      <td>3.4</td>\n",
       "      <td>159.0</td>\n",
       "      <td>70.57</td>\n",
       "      <td>20.0</td>\n",
       "    </tr>\n",
       "  </tbody>\n",
       "</table>\n",
       "</div>"
      ],
      "text/plain": [
       "         Algorithm  SeedMovie  loginId  movieId  sessionIds  userId  \\\n",
       "0  PredictedRating     118985  008C57f      318           1  276159   \n",
       "1  PredictedRating     118985  008C57f    93721           1  276159   \n",
       "2  PredictedRating     118985  008C57f   148626           1  276159   \n",
       "3  PredictedRating     118985  008C57f     2966           1  276159   \n",
       "4  PredictedRating     118985  008C57f    81845           1  276159   \n",
       "\n",
       "   avgRating  popularityLastYear  avgRating_seedmovie  \\\n",
       "0       4.43              7047.0                  3.4   \n",
       "1       3.95               229.0                  3.4   \n",
       "2       4.01              1744.0                  3.4   \n",
       "3       3.93                94.0                  3.4   \n",
       "4       3.93              2032.0                  3.4   \n",
       "\n",
       "   popularityLastYear_seedmovie  age_month  age_seedmovie_month  \n",
       "0                         159.0     267.50                 20.0  \n",
       "1                         159.0      63.87                 20.0  \n",
       "2                         159.0       9.17                 20.0  \n",
       "3                         159.0     205.90                 20.0  \n",
       "4                         159.0      70.57                 20.0  "
      ]
     },
     "execution_count": 39,
     "metadata": {},
     "output_type": "execute_result"
    }
   ],
   "source": [
    "rec_seed_info.head()"
   ]
  },
  {
   "cell_type": "code",
   "execution_count": 40,
   "metadata": {
    "collapsed": true
   },
   "outputs": [],
   "source": [
    "rec_played_info = pd.merge(rec_played_alg2, rec_seed_info, on=['loginId','movieId'],how='left')\n",
    "# Drop NA\n",
    "rec_played_info.dropna(inplace=True)\n"
   ]
  },
  {
   "cell_type": "code",
   "execution_count": 41,
   "metadata": {
    "scrolled": false
   },
   "outputs": [
    {
     "data": {
      "text/plain": [
       "Unnamed: 0                      16367\n",
       "userId_x                        16367\n",
       "loginId                         16367\n",
       "movieId                         16367\n",
       "action                          16367\n",
       "tstamp                          16367\n",
       "position                        16367\n",
       "sessionIds_x                    16367\n",
       "recommenderId                   16367\n",
       "Algorithm                       16367\n",
       "SeedMovie                       16367\n",
       "sessionIds_y                    16367\n",
       "userId_y                        16367\n",
       "avgRating                       16367\n",
       "popularityLastYear              16367\n",
       "avgRating_seedmovie             16367\n",
       "popularityLastYear_seedmovie    16367\n",
       "age_month                       16367\n",
       "age_seedmovie_month             16367\n",
       "dtype: int64"
      ]
     },
     "execution_count": 41,
     "metadata": {},
     "output_type": "execute_result"
    }
   ],
   "source": [
    "rec_played_info.drop_duplicates(subset=['loginId','movieId','SeedMovie']).count()"
   ]
  },
  {
   "cell_type": "markdown",
   "metadata": {},
   "source": [
    "### Total_played (All trailers that are clicked on) and Algorithm"
   ]
  },
  {
   "cell_type": "markdown",
   "metadata": {},
   "source": [
    "If an action is among: \"PlayedFromLaunch\",\"PlayedFromNext\", \"PlayedFromRecommendation\", \"PlayedFromPrevious\", it means a trailer is played, so we keep this row in the table."
   ]
  },
  {
   "cell_type": "code",
   "execution_count": 13,
   "metadata": {},
   "outputs": [
    {
     "data": {
      "text/plain": [
       "Unnamed: 0    186878\n",
       "userId        186878\n",
       "loginId       186878\n",
       "movieId       186878\n",
       "action        186878\n",
       "tstamp        186878\n",
       "position      186878\n",
       "sessionIds    186878\n",
       "dtype: int64"
      ]
     },
     "execution_count": 13,
     "metadata": {},
     "output_type": "execute_result"
    }
   ],
   "source": [
    "# All trailers played, with their algorithm assignment. \n",
    "total_played = action_data[action_data['action'].isin([\"PlayedFromLaunch\",\"PlayedFromNext\", \"PlayedFromRecommendation\", \"PlayedFromPrevious\"])].copy()\n",
    "total_played.count()"
   ]
  },
  {
   "cell_type": "code",
   "execution_count": 14,
   "metadata": {},
   "outputs": [],
   "source": [
    "total_played.drop(\"Unnamed: 0\",axis=1, inplace=True)"
   ]
  },
  {
   "cell_type": "code",
   "execution_count": 15,
   "metadata": {},
   "outputs": [],
   "source": [
    "# Merge total_played with algorithm assignment\n",
    "total_played_alg = pd.merge(total_played, alg_assignment, on=['loginId','userId'], how='left')\n",
    "\n",
    "# Drop na values\n",
    "total_played_alg2 = total_played_alg.dropna(subset=['recommenderId']).copy()"
   ]
  },
  {
   "cell_type": "code",
   "execution_count": 17,
   "metadata": {},
   "outputs": [
    {
     "data": {
      "text/plain": [
       "userId           166959\n",
       "loginId          166959\n",
       "movieId          166959\n",
       "action           166959\n",
       "tstamp           166959\n",
       "position         166959\n",
       "sessionIds       166959\n",
       "recommenderId    166959\n",
       "dtype: int64"
      ]
     },
     "execution_count": 17,
     "metadata": {},
     "output_type": "execute_result"
    }
   ],
   "source": [
    "total_played_alg2.count()"
   ]
  },
  {
   "cell_type": "code",
   "execution_count": 46,
   "metadata": {
    "collapsed": true
   },
   "outputs": [],
   "source": [
    "total_played_alg2.to_csv(\"../Clean_Data/total_played_alg.csv\", index=False)"
   ]
  },
  {
   "cell_type": "markdown",
   "metadata": {},
   "source": [
    "### Aggretable count_total_played, count_rec_played, refreshes, with algorithm assignment, by loginId"
   ]
  },
  {
   "cell_type": "code",
   "execution_count": 47,
   "metadata": {
    "collapsed": true
   },
   "outputs": [],
   "source": [
    "# Find out the count of total trailers played in a session:\n",
    "total_played_alg_count = total_played_alg2.groupby(['userId','loginId','recommenderId'])['movieId'].count().reset_index(name=\"count_total_played\")"
   ]
  },
  {
   "cell_type": "code",
   "execution_count": 48,
   "metadata": {
    "collapsed": true
   },
   "outputs": [],
   "source": [
    "# Join the two tables above:\n",
    "total_rec_count = pd.merge(total_played_alg_count, rec_played_alg_count, on=['loginId','userId'], how='left')\n"
   ]
  },
  {
   "cell_type": "code",
   "execution_count": 49,
   "metadata": {},
   "outputs": [
    {
     "data": {
      "text/html": [
       "<div>\n",
       "<style>\n",
       "    .dataframe thead tr:only-child th {\n",
       "        text-align: right;\n",
       "    }\n",
       "\n",
       "    .dataframe thead th {\n",
       "        text-align: left;\n",
       "    }\n",
       "\n",
       "    .dataframe tbody tr th {\n",
       "        vertical-align: top;\n",
       "    }\n",
       "</style>\n",
       "<table border=\"1\" class=\"dataframe\">\n",
       "  <thead>\n",
       "    <tr style=\"text-align: right;\">\n",
       "      <th></th>\n",
       "      <th>userId</th>\n",
       "      <th>loginId</th>\n",
       "      <th>recommenderId</th>\n",
       "      <th>count_refresh</th>\n",
       "    </tr>\n",
       "  </thead>\n",
       "  <tbody>\n",
       "    <tr>\n",
       "      <th>0</th>\n",
       "      <td>108928</td>\n",
       "      <td>cMSrxrL</td>\n",
       "      <td>FilmReleaseDate</td>\n",
       "      <td>1</td>\n",
       "    </tr>\n",
       "    <tr>\n",
       "      <th>1</th>\n",
       "      <td>125536</td>\n",
       "      <td>9Mh05HC</td>\n",
       "      <td>PredictedRating</td>\n",
       "      <td>1</td>\n",
       "    </tr>\n",
       "    <tr>\n",
       "      <th>2</th>\n",
       "      <td>131928</td>\n",
       "      <td>RAUtp1C</td>\n",
       "      <td>FilmReleaseDate</td>\n",
       "      <td>1</td>\n",
       "    </tr>\n",
       "    <tr>\n",
       "      <th>3</th>\n",
       "      <td>163262</td>\n",
       "      <td>jUXOHcr</td>\n",
       "      <td>ShuffledTopPicks</td>\n",
       "      <td>1</td>\n",
       "    </tr>\n",
       "    <tr>\n",
       "      <th>4</th>\n",
       "      <td>164934</td>\n",
       "      <td>VqCRXL9</td>\n",
       "      <td>TagSimilarity</td>\n",
       "      <td>1</td>\n",
       "    </tr>\n",
       "  </tbody>\n",
       "</table>\n",
       "</div>"
      ],
      "text/plain": [
       "   userId  loginId     recommenderId  count_refresh\n",
       "0  108928  cMSrxrL   FilmReleaseDate              1\n",
       "1  125536  9Mh05HC   PredictedRating              1\n",
       "2  131928  RAUtp1C   FilmReleaseDate              1\n",
       "3  163262  jUXOHcr  ShuffledTopPicks              1\n",
       "4  164934  VqCRXL9     TagSimilarity              1"
      ]
     },
     "execution_count": 49,
     "metadata": {},
     "output_type": "execute_result"
    }
   ],
   "source": [
    "rec_refresh = action_data[action_data['action'] == 'RecommendationsRefreshed']\n",
    "refresh_alg = pd.merge(rec_refresh, alg_assignment, on=['loginId','userId'], how='left')\n",
    "\n",
    "refresh_alg_count = refresh_alg.groupby(['userId','loginId','recommenderId'])['movieId'].count().reset_index(name=\"count_refresh\")\n",
    "refresh_alg_count.head()"
   ]
  },
  {
   "cell_type": "code",
   "execution_count": 50,
   "metadata": {
    "collapsed": true,
    "scrolled": true
   },
   "outputs": [],
   "source": [
    "# Join the table of #refresh with the previous aggregate table\n",
    "total_rec_refresh_count = pd.merge(total_rec_count, refresh_alg_count, on=['loginId','userId'], how='left')\n",
    "\n",
    "## Drop NA\n",
    "total_rec_refresh_count['count_refresh'].fillna(0, inplace=True)\n",
    "total_rec_refresh_count['count_rec_played'].fillna(0, inplace=True)\n"
   ]
  },
  {
   "cell_type": "code",
   "execution_count": 51,
   "metadata": {
    "collapsed": true
   },
   "outputs": [],
   "source": [
    "# Rename the column: recommenderId_x as Algorithm\n",
    "total_rec_refresh_count=total_rec_refresh_count.rename(columns = {'recommenderId_x':'Algorithm'})\n",
    "\n",
    "# Drop the columns recommenderId_y and recommenderId\n",
    "total_rec_refresh_count.drop('recommenderId_y', axis = 1, inplace = True)\n",
    "total_rec_refresh_count.drop('recommenderId', axis = 1, inplace = True)"
   ]
  },
  {
   "cell_type": "code",
   "execution_count": 52,
   "metadata": {},
   "outputs": [
    {
     "data": {
      "text/html": [
       "<div>\n",
       "<style>\n",
       "    .dataframe thead tr:only-child th {\n",
       "        text-align: right;\n",
       "    }\n",
       "\n",
       "    .dataframe thead th {\n",
       "        text-align: left;\n",
       "    }\n",
       "\n",
       "    .dataframe tbody tr th {\n",
       "        vertical-align: top;\n",
       "    }\n",
       "</style>\n",
       "<table border=\"1\" class=\"dataframe\">\n",
       "  <thead>\n",
       "    <tr style=\"text-align: right;\">\n",
       "      <th></th>\n",
       "      <th>userId</th>\n",
       "      <th>loginId</th>\n",
       "      <th>Algorithm</th>\n",
       "      <th>count_total_played</th>\n",
       "      <th>count_rec_played</th>\n",
       "      <th>count_refresh</th>\n",
       "    </tr>\n",
       "  </thead>\n",
       "  <tbody>\n",
       "    <tr>\n",
       "      <th>0</th>\n",
       "      <td>1892</td>\n",
       "      <td>Nm0bajY</td>\n",
       "      <td>TagSimilarity</td>\n",
       "      <td>1</td>\n",
       "      <td>0.0</td>\n",
       "      <td>0.0</td>\n",
       "    </tr>\n",
       "    <tr>\n",
       "      <th>1</th>\n",
       "      <td>12337</td>\n",
       "      <td>OnHpLST</td>\n",
       "      <td>PredictedRating</td>\n",
       "      <td>1</td>\n",
       "      <td>0.0</td>\n",
       "      <td>0.0</td>\n",
       "    </tr>\n",
       "    <tr>\n",
       "      <th>2</th>\n",
       "      <td>16783</td>\n",
       "      <td>2bqCVrC</td>\n",
       "      <td>TagSimilarity</td>\n",
       "      <td>19</td>\n",
       "      <td>0.0</td>\n",
       "      <td>0.0</td>\n",
       "    </tr>\n",
       "    <tr>\n",
       "      <th>3</th>\n",
       "      <td>22005</td>\n",
       "      <td>M1nww5f</td>\n",
       "      <td>ShuffledTopPicks</td>\n",
       "      <td>1</td>\n",
       "      <td>0.0</td>\n",
       "      <td>0.0</td>\n",
       "    </tr>\n",
       "    <tr>\n",
       "      <th>4</th>\n",
       "      <td>26229</td>\n",
       "      <td>t7hZ2Ty</td>\n",
       "      <td>PredictedRating</td>\n",
       "      <td>1</td>\n",
       "      <td>0.0</td>\n",
       "      <td>0.0</td>\n",
       "    </tr>\n",
       "  </tbody>\n",
       "</table>\n",
       "</div>"
      ],
      "text/plain": [
       "   userId  loginId         Algorithm  count_total_played  count_rec_played  \\\n",
       "0    1892  Nm0bajY     TagSimilarity                   1               0.0   \n",
       "1   12337  OnHpLST   PredictedRating                   1               0.0   \n",
       "2   16783  2bqCVrC     TagSimilarity                  19               0.0   \n",
       "3   22005  M1nww5f  ShuffledTopPicks                   1               0.0   \n",
       "4   26229  t7hZ2Ty   PredictedRating                   1               0.0   \n",
       "\n",
       "   count_refresh  \n",
       "0            0.0  \n",
       "1            0.0  \n",
       "2            0.0  \n",
       "3            0.0  \n",
       "4            0.0  "
      ]
     },
     "execution_count": 52,
     "metadata": {},
     "output_type": "execute_result"
    }
   ],
   "source": [
    "total_rec_refresh_count.head()"
   ]
  },
  {
   "cell_type": "markdown",
   "metadata": {},
   "source": [
    "Now, we have generated an aggregate table with total played, rec played, and #refresh in each login session. "
   ]
  },
  {
   "cell_type": "code",
   "execution_count": 53,
   "metadata": {
    "collapsed": true
   },
   "outputs": [],
   "source": [
    "# Write result to a csv file\n",
    "total_rec_refresh_count.to_csv(\"../Clean_Data/total_rec_refresh_aggregate.csv\")\n"
   ]
  }
 ],
 "metadata": {
  "kernelspec": {
   "display_name": "Python 3",
   "language": "python",
   "name": "python3"
  },
  "language_info": {
   "codemirror_mode": {
    "name": "ipython",
    "version": 3
   },
   "file_extension": ".py",
   "mimetype": "text/x-python",
   "name": "python",
   "nbconvert_exporter": "python",
   "pygments_lexer": "ipython3",
   "version": "3.6.5"
  }
 },
 "nbformat": 4,
 "nbformat_minor": 2
}
