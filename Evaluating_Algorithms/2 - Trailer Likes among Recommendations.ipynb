{
 "cells": [
  {
   "cell_type": "markdown",
   "metadata": {},
   "source": [
    "Data Date Range:\n",
    "    <br />Start time: 2016-05-05 09:40:26\n",
    "    <br />End time: 2018-01-17 01:59:42\n",
    "    \n",
    "#### This notebook does the following analysis:\n",
    "\n",
    "- Percentages of trailer liked among all trailers that are played played, grouped by algorithms\n",
    "- Percentages of trailer liked among recommended trailers that are played, grouped by algorithms"
   ]
  },
  {
   "cell_type": "markdown",
   "metadata": {},
   "source": [
    "### Percentages of recommendations liked among recommendations that are clicked, by each algorithm. ###\n"
   ]
  },
  {
   "cell_type": "code",
   "execution_count": 3,
   "metadata": {},
   "outputs": [],
   "source": [
    "import pandas as pd\n",
    "import numpy as np"
   ]
  },
  {
   "cell_type": "code",
   "execution_count": 4,
   "metadata": {},
   "outputs": [],
   "source": [
    "%matplotlib inline\n",
    "import matplotlib as mpl\n",
    "import matplotlib.pyplot as plt\n",
    "import seaborn as sns"
   ]
  },
  {
   "cell_type": "code",
   "execution_count": 9,
   "metadata": {
    "scrolled": true
   },
   "outputs": [],
   "source": [
    "# Load data:\n",
    "rec_played_liked = pd.read_csv('../Clean_Data/rec_played_liked.csv', sep=',')\n",
    "rec_played_liked.loc[rec_played_liked.recommenderId == 'ShuffledTopPicks', 'recommenderId'] = 'Baseline'\n"
   ]
  },
  {
   "cell_type": "code",
   "execution_count": 10,
   "metadata": {},
   "outputs": [
    {
     "data": {
      "text/plain": [
       "userId           9142\n",
       "loginId          9142\n",
       "movieId          9142\n",
       "action           9142\n",
       "tstamp_x         9142\n",
       "position         9142\n",
       "sessionIds       9142\n",
       "recommenderId    9142\n",
       "isLiked           289\n",
       "tstamp_y          289\n",
       "dtype: int64"
      ]
     },
     "execution_count": 10,
     "metadata": {},
     "output_type": "execute_result"
    }
   ],
   "source": [
    "rec_played_liked_clean = rec_played_liked.drop(['Unnamed: 0'], axis=1)\n",
    "mlusers = [32451,49002,49253,50540,51234,51714,65817,66644,68903,70023,70026,92721,92723,95195,96279,96483,96691,97397,104218,113699,114092,114844,122798,124450,124790,125283,125431,127628,127979,129299,130353,132131,132145,132637,132726,132728,132871,133047,134070,134088,134143,134235,134342,134349,134372,134373,134393,134484,134496,134498,134504,134533,135260,135670,136346,136505,136995,137096,137331,137372,138083,138089,138090,138108,141799,142115,143473,149815,151709,151982,166008,173637,176970,183038,183567,197881,202657,207221,221192,221515,225510,233659,233985,237287,237332,238576,238876,240312,242238,242683,243010,243445,245696,246018,246058,246587,246828,248583,251610,251922,252238,252534,253066,253866,253869,257628,257629,257756,258553,258554,258555,258556,258557,258558,258559,258560,258561,258562,258563,258564,258565,259056,260701,264178,266542,268253,269945,286014,287206,292397,301040,304542,313322,316070,317416,318334]\n",
    "rec_played_liked_noml = rec_played_liked_clean[~rec_played_liked_clean.userId.isin(mlusers)]\n",
    "rec_played_liked_clean.count()"
   ]
  },
  {
   "cell_type": "code",
   "execution_count": 11,
   "metadata": {},
   "outputs": [],
   "source": [
    "# How many trailers, among all trailers played, are liked and disliked, for each algorithm?\n",
    "num_rec_likes = rec_played_liked_clean.groupby(['recommenderId','isLiked']).count().unstack()['movieId']['TrailerLiked']\n",
    "num_rec_dislikes = rec_played_liked_clean.groupby(['recommenderId','isLiked']).count().unstack()['movieId']['TrailerDisliked']\n",
    "\n",
    "# How many are played, for each algorithm assignment?\n",
    "num_recs= rec_played_liked_clean.groupby('recommenderId').count()['movieId']"
   ]
  },
  {
   "cell_type": "code",
   "execution_count": 12,
   "metadata": {},
   "outputs": [
    {
     "data": {
      "image/png": "[encoded data removed]",
      "text/plain": [
       "<matplotlib.figure.Figure at 0x1a0f4152e8>"
      ]
     },
     "metadata": {},
     "output_type": "display_data"
    }
   ],
   "source": [
    "#Calculate the percentage:\n",
    "percent_rec_likes = (num_rec_likes/num_recs).reset_index()\n",
    "percent_rec_likes.rename(columns={0:'count_rec_likes/recs'},inplace=True)\n",
    "\n",
    "#Visualize result:\n",
    "ax = sns.barplot(x=\"count_rec_likes/recs\", y=\"recommenderId\", data=percent_rec_likes)\n",
    "# ax.set_xlim(0,0.04)\n"
   ]
  },
  {
   "cell_type": "code",
   "execution_count": 13,
   "metadata": {
    "scrolled": true
   },
   "outputs": [
    {
     "data": {
      "text/plain": [
       "recommenderId\n",
       "Baseline           0.020453\n",
       "FilmReleaseDate    0.004640\n",
       "PredictedRating    0.003195\n",
       "TagSimilarity      0.001079\n",
       "dtype: float64"
      ]
     },
     "execution_count": 13,
     "metadata": {},
     "output_type": "execute_result"
    }
   ],
   "source": [
    "# Percentages of recommended trailers disliked\n",
    "num_rec_dislikes/num_recs\n",
    "\n",
    "# It's interesting to see that TagSimilarity is the one disliked the least.\n",
    "# This might suggest that people tend to respond to trailers recommended via 'TagSimilarity'."
   ]
  },
  {
   "cell_type": "markdown",
   "metadata": {},
   "source": [
    "### Percentages of recommendations either liked or disliked among recommendations clicked, for each algorithm. ###\n"
   ]
  },
  {
   "cell_type": "code",
   "execution_count": 14,
   "metadata": {},
   "outputs": [
    {
     "data": {
      "text/plain": [
       "recommenderId\n",
       "Baseline            51\n",
       "FilmReleaseDate    115\n",
       "PredictedRating     81\n",
       "TagSimilarity       42\n",
       "Name: isLiked, dtype: int64"
      ]
     },
     "execution_count": 14,
     "metadata": {},
     "output_type": "execute_result"
    }
   ],
   "source": [
    "# How many trailers, among all trailers played, are either liked or disliked, for each algorithm?\n",
    "num_rec_respond = rec_played_liked_clean.groupby('recommenderId').count()['isLiked'] \n",
    "num_rec_respond"
   ]
  },
  {
   "cell_type": "code",
   "execution_count": 15,
   "metadata": {
    "scrolled": true
   },
   "outputs": [
    {
     "data": {
      "image/png": "[encoded data removed]",
      "text/plain": [
       "<matplotlib.figure.Figure at 0x1a0edf47f0>"
      ]
     },
     "metadata": {},
     "output_type": "display_data"
    }
   ],
   "source": [
    "percent_rec_preference = (num_rec_respond/rec_played_liked_clean.groupby('recommenderId').count()['movieId']).reset_index()\n",
    "percent_rec_preference.rename(columns={0:'count_preference/rec'},inplace=True)\n",
    "percent_rec_preference\n",
    "# Indeed, people tend to respond to 'TagSimilarity' the least, and 'FilmReleaseDate' the most. \n",
    "\n",
    "ax = sns.barplot(x=\"count_preference/rec\", y=\"recommenderId\", data=percent_rec_preference)\n"
   ]
  },
  {
   "cell_type": "markdown",
   "metadata": {},
   "source": [
    "### Percentages of trailer liked among total trailer played for each algorithm. ###\n"
   ]
  },
  {
   "cell_type": "code",
   "execution_count": 5,
   "metadata": {},
   "outputs": [],
   "source": [
    "total_played_likes = pd.read_csv('../Clean_Data/total_played_liked.csv', sep=',')\n",
    "total_played_likes.loc[total_played_likes.recommenderId == 'ShuffledTopPicks', 'recommenderId'] = 'Baseline'"
   ]
  },
  {
   "cell_type": "code",
   "execution_count": 6,
   "metadata": {},
   "outputs": [
    {
     "data": {
      "text/plain": [
       "recommenderId\n",
       "Baseline           418\n",
       "FilmReleaseDate    600\n",
       "PredictedRating    559\n",
       "TagSimilarity      433\n",
       "Name: TrailerLiked, dtype: int64"
      ]
     },
     "execution_count": 6,
     "metadata": {},
     "output_type": "execute_result"
    }
   ],
   "source": [
    "total_played_likes_clean = total_played_likes.drop(['Unnamed: 0.1','Unnamed: 0'], axis=1)\n",
    "\n",
    "# How many trailers, among all trailers played, are either liked or disliked, for each algorithm?\n",
    "num_trailer_likes = total_played_likes_clean.groupby(['recommenderId','isLiked']).count().unstack()['userId']['TrailerLiked']\n",
    "num_trailer_likes.head()"
   ]
  },
  {
   "cell_type": "code",
   "execution_count": 7,
   "metadata": {},
   "outputs": [
    {
     "data": {
      "text/plain": [
       "recommenderId\n",
       "Baseline           41154\n",
       "FilmReleaseDate    41401\n",
       "PredictedRating    41675\n",
       "TagSimilarity      42729\n",
       "Name: movieId, dtype: int64"
      ]
     },
     "execution_count": 7,
     "metadata": {},
     "output_type": "execute_result"
    }
   ],
   "source": [
    "# How many are played, with each algorithm assignment?\n",
    "num_trailers = total_played_likes_clean.groupby('recommenderId').count()['movieId']\n",
    "num_trailers"
   ]
  },
  {
   "cell_type": "code",
   "execution_count": 8,
   "metadata": {
    "scrolled": true
   },
   "outputs": [
    {
     "data": {
      "text/plain": [
       "recommenderId\n",
       "Baseline           0.010157\n",
       "FilmReleaseDate    0.014492\n",
       "PredictedRating    0.013413\n",
       "TagSimilarity      0.010134\n",
       "dtype: float64"
      ]
     },
     "execution_count": 8,
     "metadata": {},
     "output_type": "execute_result"
    }
   ],
   "source": [
    "# Calculate the percentage:\n",
    "num_trailer_likes/num_trailers"
   ]
  }
 ],
 "metadata": {
  "kernelspec": {
   "display_name": "Python 3",
   "language": "python",
   "name": "python3"
  },
  "language_info": {
   "codemirror_mode": {
    "name": "ipython",
    "version": 3
   },
   "file_extension": ".py",
   "mimetype": "text/x-python",
   "name": "python",
   "nbconvert_exporter": "python",
   "pygments_lexer": "ipython3",
   "version": "3.6.4"
  }
 },
 "nbformat": 4,
 "nbformat_minor": 2
}
