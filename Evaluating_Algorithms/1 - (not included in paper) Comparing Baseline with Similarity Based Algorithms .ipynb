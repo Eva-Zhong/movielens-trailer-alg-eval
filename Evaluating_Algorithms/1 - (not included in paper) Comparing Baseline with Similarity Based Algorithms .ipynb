{
 "cells": [
  {
   "cell_type": "markdown",
   "metadata": {},
   "source": [
    "Data Date Range:\n",
    "    <br />Start time: 2016-05-05 09:40:26\n",
    "    <br />End time: 2018-01-17 01:59:42\n",
    "    \n",
    "#### This notebook does the following analysis:\n",
    "\n",
    "## Evaluate and compare TagSimilarity based algorithms with Baseline\n",
    "\n",
    "We compare the performance of Baseline with the performances of the three other algorithms (they are all based on TagSimilarity).\n",
    "We use several metrics:\n",
    "- Percentage of recommendations that are clicked (rec_played) among all trailers played (total_played)\n",
    "- Percentages of recommendations liked among recommendations that are clicked;\n",
    "- Percentages of recommendations played among recommendations that are clicked;"
   ]
  },
  {
   "cell_type": "markdown",
   "metadata": {},
   "source": [
    "### Import"
   ]
  },
  {
   "cell_type": "code",
   "execution_count": 2,
   "metadata": {},
   "outputs": [],
   "source": [
    "import pandas as pd\n",
    "import numpy as np\n",
    "\n",
    "%matplotlib inline\n",
    "import matplotlib as mpl\n",
    "import matplotlib.pyplot as plt\n",
    "import seaborn as sns"
   ]
  },
  {
   "cell_type": "markdown",
   "metadata": {},
   "source": [
    "### Percentages of RC trailers by TagSimilarity based algorithms and by ShuffleTopPicks\n"
   ]
  },
  {
   "cell_type": "code",
   "execution_count": 3,
   "metadata": {},
   "outputs": [],
   "source": [
    "# Percentages of trailers liked among total trailers played;\n",
    "total_played_likes = pd.read_csv('../Clean_Data/total_played_liked.csv', sep=',')\n",
    "total_played_likes_clean = total_played_likes.drop(['Unnamed: 0','Unnamed: 0.1'], axis=1)"
   ]
  },
  {
   "cell_type": "code",
   "execution_count": 4,
   "metadata": {},
   "outputs": [
    {
     "data": {
      "text/html": [
       "<div>\n",
       "<style scoped>\n",
       "    .dataframe tbody tr th:only-of-type {\n",
       "        vertical-align: middle;\n",
       "    }\n",
       "\n",
       "    .dataframe tbody tr th {\n",
       "        vertical-align: top;\n",
       "    }\n",
       "\n",
       "    .dataframe thead th {\n",
       "        text-align: right;\n",
       "    }\n",
       "</style>\n",
       "<table border=\"1\" class=\"dataframe\">\n",
       "  <thead>\n",
       "    <tr style=\"text-align: right;\">\n",
       "      <th></th>\n",
       "      <th>userId</th>\n",
       "      <th>loginId</th>\n",
       "      <th>movieId</th>\n",
       "      <th>action</th>\n",
       "      <th>tstamp</th>\n",
       "      <th>recommenderId</th>\n",
       "      <th>isLiked</th>\n",
       "    </tr>\n",
       "  </thead>\n",
       "  <tbody>\n",
       "    <tr>\n",
       "      <th>0</th>\n",
       "      <td>283320</td>\n",
       "      <td>5NUxm3d</td>\n",
       "      <td>4612</td>\n",
       "      <td>PlayedFromLaunch</td>\n",
       "      <td>2016-05-05 16:54:49</td>\n",
       "      <td>PredictedRating</td>\n",
       "      <td>NaN</td>\n",
       "    </tr>\n",
       "    <tr>\n",
       "      <th>1</th>\n",
       "      <td>271845</td>\n",
       "      <td>28lSfpJ</td>\n",
       "      <td>60684</td>\n",
       "      <td>PlayedFromLaunch</td>\n",
       "      <td>2016-05-05 16:54:55</td>\n",
       "      <td>PredictedRating</td>\n",
       "      <td>NaN</td>\n",
       "    </tr>\n",
       "    <tr>\n",
       "      <th>2</th>\n",
       "      <td>271845</td>\n",
       "      <td>28lSfpJ</td>\n",
       "      <td>4448</td>\n",
       "      <td>PlayedFromLaunch</td>\n",
       "      <td>2016-05-05 17:00:37</td>\n",
       "      <td>PredictedRating</td>\n",
       "      <td>NaN</td>\n",
       "    </tr>\n",
       "    <tr>\n",
       "      <th>3</th>\n",
       "      <td>271845</td>\n",
       "      <td>28lSfpJ</td>\n",
       "      <td>1234</td>\n",
       "      <td>PlayedFromNext</td>\n",
       "      <td>2016-05-05 17:01:30</td>\n",
       "      <td>PredictedRating</td>\n",
       "      <td>NaN</td>\n",
       "    </tr>\n",
       "    <tr>\n",
       "      <th>4</th>\n",
       "      <td>198215</td>\n",
       "      <td>3KDHjBg</td>\n",
       "      <td>90531</td>\n",
       "      <td>PlayedFromLaunch</td>\n",
       "      <td>2016-05-05 19:52:38</td>\n",
       "      <td>TagSimilarity</td>\n",
       "      <td>NaN</td>\n",
       "    </tr>\n",
       "  </tbody>\n",
       "</table>\n",
       "</div>"
      ],
      "text/plain": [
       "   userId  loginId  movieId            action               tstamp  \\\n",
       "0  283320  5NUxm3d     4612  PlayedFromLaunch  2016-05-05 16:54:49   \n",
       "1  271845  28lSfpJ    60684  PlayedFromLaunch  2016-05-05 16:54:55   \n",
       "2  271845  28lSfpJ     4448  PlayedFromLaunch  2016-05-05 17:00:37   \n",
       "3  271845  28lSfpJ     1234    PlayedFromNext  2016-05-05 17:01:30   \n",
       "4  198215  3KDHjBg    90531  PlayedFromLaunch  2016-05-05 19:52:38   \n",
       "\n",
       "     recommenderId isLiked  \n",
       "0  PredictedRating     NaN  \n",
       "1  PredictedRating     NaN  \n",
       "2  PredictedRating     NaN  \n",
       "3  PredictedRating     NaN  \n",
       "4    TagSimilarity     NaN  "
      ]
     },
     "execution_count": 4,
     "metadata": {},
     "output_type": "execute_result"
    }
   ],
   "source": [
    "total_played_likes_clean.loc[total_played_likes_clean.recommenderId == 'ShuffledTopPicks', 'recommenderId'] = 'Baseline'\n",
    "\n",
    "total_played_likes_clean.head()"
   ]
  },
  {
   "cell_type": "code",
   "execution_count": 5,
   "metadata": {},
   "outputs": [
    {
     "data": {
      "text/plain": [
       "0.017384046739000833"
      ]
     },
     "execution_count": 5,
     "metadata": {},
     "output_type": "execute_result"
    }
   ],
   "source": [
    "count_similarity_likes = total_played_likes_clean[total_played_likes_clean['recommenderId']!='Baseline'].count()['isLiked']\n",
    "count_similarity_played = total_played_likes_clean[total_played_likes_clean['recommenderId']!='Baseline'].count()['movieId']\n",
    "\n",
    "# Percentages of trailers liked among total trailers played, for Similarity based algorithms:\n",
    "count_similarity_likes/count_similarity_played\n",
    "\n",
    "# Percentages of trailers liked among total trailers played, for baseline:\n",
    "count_similarity_likes/count_similarity_played"
   ]
  },
  {
   "cell_type": "code",
   "execution_count": 6,
   "metadata": {},
   "outputs": [
    {
     "data": {
      "text/plain": [
       "0.01550274578412791"
      ]
     },
     "execution_count": 6,
     "metadata": {},
     "output_type": "execute_result"
    }
   ],
   "source": [
    "count_base_likes = total_played_likes_clean[total_played_likes_clean['recommenderId']=='Baseline'].count()['isLiked']\n",
    "count_base_played = total_played_likes_clean[total_played_likes_clean['recommenderId']=='Baseline'].count()['movieId']\n",
    "\n",
    "count_base_likes/count_base_played"
   ]
  },
  {
   "cell_type": "markdown",
   "metadata": {},
   "source": [
    "### Percentages of trailers liked among recommendations played for TagSimilarity based algorithms and Baseline\n"
   ]
  },
  {
   "cell_type": "code",
   "execution_count": 7,
   "metadata": {},
   "outputs": [],
   "source": [
    "rec_played_likes = pd.read_csv('../Clean_Data/rec_played_liked.csv', sep=',')\n",
    "rec_played_likes_clean = rec_played_likes.drop(['Unnamed: 0'], axis=1)\n",
    "\n",
    "rec_played_likes_clean.loc[rec_played_likes_clean.recommenderId == 'ShuffledTopPicks', 'recommenderId'] = 'Baseline'\n",
    "\n"
   ]
  },
  {
   "cell_type": "code",
   "execution_count": 9,
   "metadata": {},
   "outputs": [
    {
     "data": {
      "text/plain": [
       "0.03725346968590212"
      ]
     },
     "execution_count": 9,
     "metadata": {},
     "output_type": "execute_result"
    }
   ],
   "source": [
    "num_trailer_likes2 = rec_played_likes_clean.groupby(['recommenderId','isLiked']).count().unstack()['userId']['TrailerLiked']\n",
    "num_trailer_likes2.head()\n",
    "\n",
    "\n",
    "count_base_likes2 = rec_played_likes_clean[rec_played_likes_clean['recommenderId']=='Baseline'].count()['isLiked']\n",
    "count_base_played2 = rec_played_likes_clean[rec_played_likes_clean['recommenderId']=='Baseline'].count()['movieId']\n",
    "\n",
    "# Percentages of trailers liked among recommendations played, for 'ShuffledTopPicks':\n",
    "count_base_likes2/count_base_played2\n"
   ]
  },
  {
   "cell_type": "code",
   "execution_count": 10,
   "metadata": {},
   "outputs": [
    {
     "data": {
      "text/plain": [
       "0.030618808696770874"
      ]
     },
     "execution_count": 10,
     "metadata": {},
     "output_type": "execute_result"
    }
   ],
   "source": [
    "count_similarity_likes2 = rec_played_likes_clean[rec_played_likes_clean['recommenderId']!='Baseline'].count()['isLiked']\n",
    "count_similarity_played2 = rec_played_likes_clean[rec_played_likes_clean['recommenderId']!='Baseline'].count()['movieId']\n",
    "\n",
    "# Percentages of trailers liked among recommendations played, for Similarity based algorithms:\n",
    "count_similarity_likes2/count_similarity_played2\n",
    "\n",
    "####### It's interesting that baseline performs better in this case"
   ]
  },
  {
   "cell_type": "markdown",
   "metadata": {},
   "source": [
    "### Percentages of recommendations clicked among total trailers played for TagSimilarity based algorithms and Baseline"
   ]
  },
  {
   "cell_type": "code",
   "execution_count": 11,
   "metadata": {},
   "outputs": [
    {
     "data": {
      "text/plain": [
       "0.033265296204500173"
      ]
     },
     "execution_count": 11,
     "metadata": {},
     "output_type": "execute_result"
    }
   ],
   "source": [
    "count_rec_base = rec_played_likes_clean[rec_played_likes_clean['recommenderId'] == 'Baseline'].count()['movieId']\n",
    "count_total_base = total_played_likes_clean[total_played_likes_clean['recommenderId'] == 'Baseline'].count()['movieId']\n",
    "\n",
    "# Percentages of recommendations played among total played, for ShuffledTopPicks:\n",
    "count_rec_base/count_total_base\n"
   ]
  },
  {
   "cell_type": "code",
   "execution_count": 12,
   "metadata": {
    "scrolled": false
   },
   "outputs": [
    {
     "data": {
      "text/plain": [
       "0.061786097531894596"
      ]
     },
     "execution_count": 12,
     "metadata": {},
     "output_type": "execute_result"
    }
   ],
   "source": [
    "count_rec_similarity = rec_played_likes_clean[rec_played_likes_clean['recommenderId'] != 'Baseline'].count()['movieId']\n",
    "count_total_similarity = total_played_likes_clean[total_played_likes_clean['recommenderId'] != 'Baseline'].count()['movieId']\n",
    "\n",
    "# Percentages of recommendations played among total played, for Similarity based algorithms:\n",
    "count_rec_similarity/count_total_similarity\n",
    "\n",
    "##### It's interesting that similarity based algorithms are having a much better performance here!\n"
   ]
  },
  {
   "cell_type": "markdown",
   "metadata": {},
   "source": [
    "### Visualizations: Recommendations clicked / total trailers played"
   ]
  },
  {
   "cell_type": "code",
   "execution_count": 13,
   "metadata": {},
   "outputs": [
    {
     "data": {
      "text/html": [
       "<div>\n",
       "<style scoped>\n",
       "    .dataframe tbody tr th:only-of-type {\n",
       "        vertical-align: middle;\n",
       "    }\n",
       "\n",
       "    .dataframe tbody tr th {\n",
       "        vertical-align: top;\n",
       "    }\n",
       "\n",
       "    .dataframe thead th {\n",
       "        text-align: right;\n",
       "    }\n",
       "</style>\n",
       "<table border=\"1\" class=\"dataframe\">\n",
       "  <thead>\n",
       "    <tr style=\"text-align: right;\">\n",
       "      <th></th>\n",
       "      <th>userId</th>\n",
       "      <th>loginId</th>\n",
       "      <th>Algorithm</th>\n",
       "      <th>count_total_played</th>\n",
       "      <th>count_rec_played</th>\n",
       "      <th>count_refresh</th>\n",
       "    </tr>\n",
       "  </thead>\n",
       "  <tbody>\n",
       "    <tr>\n",
       "      <th>0</th>\n",
       "      <td>1892</td>\n",
       "      <td>Nm0bajY</td>\n",
       "      <td>TagSimilarity</td>\n",
       "      <td>1</td>\n",
       "      <td>0.0</td>\n",
       "      <td>0.0</td>\n",
       "    </tr>\n",
       "    <tr>\n",
       "      <th>1</th>\n",
       "      <td>12337</td>\n",
       "      <td>OnHpLST</td>\n",
       "      <td>PredictedRating</td>\n",
       "      <td>1</td>\n",
       "      <td>0.0</td>\n",
       "      <td>0.0</td>\n",
       "    </tr>\n",
       "    <tr>\n",
       "      <th>2</th>\n",
       "      <td>16783</td>\n",
       "      <td>2bqCVrC</td>\n",
       "      <td>TagSimilarity</td>\n",
       "      <td>19</td>\n",
       "      <td>0.0</td>\n",
       "      <td>0.0</td>\n",
       "    </tr>\n",
       "    <tr>\n",
       "      <th>3</th>\n",
       "      <td>22005</td>\n",
       "      <td>M1nww5f</td>\n",
       "      <td>ShuffledTopPicks</td>\n",
       "      <td>1</td>\n",
       "      <td>0.0</td>\n",
       "      <td>0.0</td>\n",
       "    </tr>\n",
       "    <tr>\n",
       "      <th>4</th>\n",
       "      <td>26229</td>\n",
       "      <td>t7hZ2Ty</td>\n",
       "      <td>PredictedRating</td>\n",
       "      <td>1</td>\n",
       "      <td>0.0</td>\n",
       "      <td>0.0</td>\n",
       "    </tr>\n",
       "  </tbody>\n",
       "</table>\n",
       "</div>"
      ],
      "text/plain": [
       "   userId  loginId         Algorithm  count_total_played  count_rec_played  \\\n",
       "0    1892  Nm0bajY     TagSimilarity                   1               0.0   \n",
       "1   12337  OnHpLST   PredictedRating                   1               0.0   \n",
       "2   16783  2bqCVrC     TagSimilarity                  19               0.0   \n",
       "3   22005  M1nww5f  ShuffledTopPicks                   1               0.0   \n",
       "4   26229  t7hZ2Ty   PredictedRating                   1               0.0   \n",
       "\n",
       "   count_refresh  \n",
       "0            0.0  \n",
       "1            0.0  \n",
       "2            0.0  \n",
       "3            0.0  \n",
       "4            0.0  "
      ]
     },
     "execution_count": 13,
     "metadata": {},
     "output_type": "execute_result"
    }
   ],
   "source": [
    "aggregate_data= pd.read_csv('../Clean_Data/total_rec_refresh_aggregate.csv', sep=',').drop('Unnamed: 0',axis=1).copy()\n",
    "\n",
    "aggregate_data.head()"
   ]
  },
  {
   "cell_type": "code",
   "execution_count": 14,
   "metadata": {},
   "outputs": [],
   "source": [
    "# aggregate_data[aggregate_data['Algorithm']!='TagSimilarity'].loc('Algorithm','SimilarityBased')\n",
    "aggregate_data.loc[aggregate_data.Algorithm != 'ShuffledTopPicks', 'Algorithm'] = 'SimilarityBased'\n",
    "aggregate_data.loc[aggregate_data.Algorithm == 'ShuffledTopPicks', 'Algorithm'] = 'Baseline'"
   ]
  },
  {
   "cell_type": "code",
   "execution_count": 15,
   "metadata": {},
   "outputs": [],
   "source": [
    "aggregate_data_wpercent = aggregate_data.groupby('Algorithm').sum().reset_index()\n",
    "aggregate_data_wpercent['rec_played/total_played'] = aggregate_data_wpercent['count_rec_played']/aggregate_data_wpercent['count_total_played']"
   ]
  },
  {
   "cell_type": "code",
   "execution_count": 16,
   "metadata": {},
   "outputs": [
    {
     "data": {
      "text/html": [
       "<div>\n",
       "<style scoped>\n",
       "    .dataframe tbody tr th:only-of-type {\n",
       "        vertical-align: middle;\n",
       "    }\n",
       "\n",
       "    .dataframe tbody tr th {\n",
       "        vertical-align: top;\n",
       "    }\n",
       "\n",
       "    .dataframe thead th {\n",
       "        text-align: right;\n",
       "    }\n",
       "</style>\n",
       "<table border=\"1\" class=\"dataframe\">\n",
       "  <thead>\n",
       "    <tr style=\"text-align: right;\">\n",
       "      <th></th>\n",
       "      <th>Algorithm</th>\n",
       "      <th>userId</th>\n",
       "      <th>count_total_played</th>\n",
       "      <th>count_rec_played</th>\n",
       "      <th>count_refresh</th>\n",
       "      <th>rec_played/total_played</th>\n",
       "    </tr>\n",
       "  </thead>\n",
       "  <tbody>\n",
       "    <tr>\n",
       "      <th>0</th>\n",
       "      <td>Baseline</td>\n",
       "      <td>3462185690</td>\n",
       "      <td>41154</td>\n",
       "      <td>1369.0</td>\n",
       "      <td>43.0</td>\n",
       "      <td>0.033265</td>\n",
       "    </tr>\n",
       "    <tr>\n",
       "      <th>1</th>\n",
       "      <td>SimilarityBased</td>\n",
       "      <td>10451129697</td>\n",
       "      <td>125805</td>\n",
       "      <td>7773.0</td>\n",
       "      <td>295.0</td>\n",
       "      <td>0.061786</td>\n",
       "    </tr>\n",
       "  </tbody>\n",
       "</table>\n",
       "</div>"
      ],
      "text/plain": [
       "         Algorithm       userId  count_total_played  count_rec_played  \\\n",
       "0         Baseline   3462185690               41154            1369.0   \n",
       "1  SimilarityBased  10451129697              125805            7773.0   \n",
       "\n",
       "   count_refresh  rec_played/total_played  \n",
       "0           43.0                 0.033265  \n",
       "1          295.0                 0.061786  "
      ]
     },
     "execution_count": 16,
     "metadata": {},
     "output_type": "execute_result"
    }
   ],
   "source": [
    "aggregate_data_wpercent"
   ]
  },
  {
   "cell_type": "code",
   "execution_count": 17,
   "metadata": {
    "scrolled": false
   },
   "outputs": [
    {
     "data": {
      "image/png": "[encoded data removed]",
      "text/plain": [
       "<matplotlib.figure.Figure at 0x1a0e78a9e8>"
      ]
     },
     "metadata": {},
     "output_type": "display_data"
    }
   ],
   "source": [
    "ax = sns.barplot(x=\"Algorithm\", y=\"rec_played/total_played\", data=aggregate_data_wpercent)\n",
    "# ax.set_ylim(0,0.1)"
   ]
  },
  {
   "cell_type": "markdown",
   "metadata": {},
   "source": [
    "### Visualizations: Recommendations liked / Recommendations clicked"
   ]
  },
  {
   "cell_type": "code",
   "execution_count": 18,
   "metadata": {},
   "outputs": [],
   "source": [
    "# Load data:\n",
    "rec_played_liked = pd.read_csv('../Clean_Data/rec_played_liked.csv', sep=',')\n",
    "\n",
    "# aggregate_data[aggregate_data['Algorithm']!='TagSimilarity'].loc('Algorithm','SimilarityBased')\n",
    "rec_played_liked.loc[rec_played_liked.recommenderId != 'ShuffledTopPicks', 'recommenderId'] = 'SimilarityBased'\n",
    "rec_played_liked.loc[rec_played_liked.recommenderId == 'ShuffledTopPicks', 'recommenderId'] = 'Baseline'"
   ]
  },
  {
   "cell_type": "code",
   "execution_count": 19,
   "metadata": {},
   "outputs": [
    {
     "data": {
      "text/plain": [
       "userId           9142\n",
       "loginId          9142\n",
       "movieId          9142\n",
       "action           9142\n",
       "tstamp_x         9142\n",
       "position         9142\n",
       "sessionIds       9142\n",
       "recommenderId    9142\n",
       "isLiked           289\n",
       "tstamp_y          289\n",
       "dtype: int64"
      ]
     },
     "execution_count": 19,
     "metadata": {},
     "output_type": "execute_result"
    }
   ],
   "source": [
    "rec_played_liked_clean = rec_played_liked.drop(['Unnamed: 0'], axis=1)\n",
    "# mlusers = [32451,49002,49253,50540,51234,51714,65817,66644,68903,70023,70026,92721,92723,95195,96279,96483,96691,97397,104218,113699,114092,114844,122798,124450,124790,125283,125431,127628,127979,129299,130353,132131,132145,132637,132726,132728,132871,133047,134070,134088,134143,134235,134342,134349,134372,134373,134393,134484,134496,134498,134504,134533,135260,135670,136346,136505,136995,137096,137331,137372,138083,138089,138090,138108,141799,142115,143473,149815,151709,151982,166008,173637,176970,183038,183567,197881,202657,207221,221192,221515,225510,233659,233985,237287,237332,238576,238876,240312,242238,242683,243010,243445,245696,246018,246058,246587,246828,248583,251610,251922,252238,252534,253066,253866,253869,257628,257629,257756,258553,258554,258555,258556,258557,258558,258559,258560,258561,258562,258563,258564,258565,259056,260701,264178,266542,268253,269945,286014,287206,292397,301040,304542,313322,316070,317416,318334]\n",
    "# rec_played_liked_noml = rec_played_liked_clean[~rec_played_liked_clean.userId.isin(mlusers)]\n",
    "rec_played_liked_clean.count()"
   ]
  },
  {
   "cell_type": "code",
   "execution_count": 20,
   "metadata": {},
   "outputs": [],
   "source": [
    "# How many trailers, among all trailers played, are liked and disliked, for each algorithm?\n",
    "num_rec_likes = rec_played_liked_clean.groupby(['recommenderId','isLiked']).count().unstack()['movieId']['TrailerLiked']\n",
    "num_rec_dislikes = rec_played_liked_clean.groupby(['recommenderId','isLiked']).count().unstack()['movieId']['TrailerDisliked']\n",
    "\n",
    "# How many are played, for each algorithm assignment?\n",
    "num_recs= rec_played_liked_clean.groupby('recommenderId').count()['movieId']"
   ]
  },
  {
   "cell_type": "code",
   "execution_count": 21,
   "metadata": {
    "scrolled": false
   },
   "outputs": [
    {
     "data": {
      "image/png": "[encoded data removed]",
      "text/plain": [
       "<matplotlib.figure.Figure at 0x1a12481be0>"
      ]
     },
     "metadata": {},
     "output_type": "display_data"
    }
   ],
   "source": [
    "#Calculate the percentage:\n",
    "percent_rec_likes = (num_rec_likes/num_recs).reset_index()\n",
    "percent_rec_likes.rename(columns={0:'count_rec_likes/recs'},inplace=True)\n",
    "\n",
    "#Visualize result:\n",
    "ax = sns.barplot(x=\"recommenderId\", y=\"count_rec_likes/recs\", data=percent_rec_likes)\n",
    "# ax.set_xlim(0,0.04)\n",
    "\n",
    "#It's interesting that TagSimilarity has a worse performance than ShuffledTopPicks"
   ]
  }
 ],
 "metadata": {
  "kernelspec": {
   "display_name": "Python 3",
   "language": "python",
   "name": "python3"
  },
  "language_info": {
   "codemirror_mode": {
    "name": "ipython",
    "version": 3
   },
   "file_extension": ".py",
   "mimetype": "text/x-python",
   "name": "python",
   "nbconvert_exporter": "python",
   "pygments_lexer": "ipython3",
   "version": "3.6.4"
  }
 },
 "nbformat": 4,
 "nbformat_minor": 2
}
