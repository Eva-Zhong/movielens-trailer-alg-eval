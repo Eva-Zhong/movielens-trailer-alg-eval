{
 "cells": [
  {
   "cell_type": "markdown",
   "metadata": {},
   "source": [
    "### This notebook does the following analysis:\n",
    "\n",
    "The number of clicks on recommendations at each position"
   ]
  },
  {
   "cell_type": "markdown",
   "metadata": {},
   "source": [
    "### Import"
   ]
  },
  {
   "cell_type": "code",
   "execution_count": 4,
   "metadata": {},
   "outputs": [],
   "source": [
    "import numpy as np\n",
    "import pandas as pd"
   ]
  },
  {
   "cell_type": "code",
   "execution_count": 5,
   "metadata": {},
   "outputs": [],
   "source": [
    "%matplotlib inline\n",
    "from scipy import stats, integrate\n",
    "import matplotlib.pyplot as plt\n",
    "import seaborn as sns"
   ]
  },
  {
   "cell_type": "code",
   "execution_count": 6,
   "metadata": {},
   "outputs": [],
   "source": [
    "action_data_position = pd.read_csv('../Clean_Data/log_trailer_actions_sessionIds.csv')"
   ]
  },
  {
   "cell_type": "code",
   "execution_count": 7,
   "metadata": {},
   "outputs": [
    {
     "data": {
      "text/plain": [
       "(510939, 3)"
      ]
     },
     "execution_count": 7,
     "metadata": {},
     "output_type": "execute_result"
    }
   ],
   "source": [
    "# Get the algorithm assignment\n",
    "expt_trailer = pd.read_csv('../Data/expt_trailer.csv', sep=',')\n",
    "alg_assignment = expt_trailer[['userId','loginId','recommenderId']]\n",
    "alg_assignment.sort_values(by='recommenderId').shape\n"
   ]
  },
  {
   "cell_type": "code",
   "execution_count": 8,
   "metadata": {},
   "outputs": [],
   "source": [
    "# Trailers recommended by an algorithm and played, excluding 'PlayedFromYoutubePlayer'\n",
    "total_played = action_data_position[action_data_position['action'].isin([\"PlayedFromLaunch\",\"PlayedFromNext\", \"PlayedFromRecommendation\", \"PlayedFromPrevious\"])]\n"
   ]
  },
  {
   "cell_type": "code",
   "execution_count": 9,
   "metadata": {},
   "outputs": [],
   "source": [
    "# Merge total_played with algorithm assignment\n",
    "total_played_alg = pd.merge(total_played, alg_assignment, on=['loginId','userId'], how='left')\n",
    "# Drop na values\n",
    "total_played_alg2 = total_played_alg.dropna(subset=['recommenderId']).copy()"
   ]
  },
  {
   "cell_type": "code",
   "execution_count": 10,
   "metadata": {},
   "outputs": [
    {
     "data": {
      "text/plain": [
       "Unnamed: 0       166959\n",
       "userId           166959\n",
       "loginId          166959\n",
       "movieId          166959\n",
       "action           166959\n",
       "tstamp           166959\n",
       "position         166959\n",
       "sessionIds       166959\n",
       "recommenderId    166959\n",
       "dtype: int64"
      ]
     },
     "execution_count": 10,
     "metadata": {},
     "output_type": "execute_result"
    }
   ],
   "source": [
    "total_played_alg2.count()"
   ]
  },
  {
   "cell_type": "code",
   "execution_count": 11,
   "metadata": {},
   "outputs": [],
   "source": [
    "totalclick_position_count = total_played_alg2.groupby(\"position\").count().reset_index()[['position','userId']]"
   ]
  },
  {
   "cell_type": "code",
   "execution_count": 12,
   "metadata": {},
   "outputs": [],
   "source": [
    "totalclick_position_count['frequency']=totalclick_position_count['userId']/166959"
   ]
  },
  {
   "cell_type": "code",
   "execution_count": 18,
   "metadata": {},
   "outputs": [
    {
     "data": {
      "text/html": [
       "<div>\n",
       "<style scoped>\n",
       "    .dataframe tbody tr th:only-of-type {\n",
       "        vertical-align: middle;\n",
       "    }\n",
       "\n",
       "    .dataframe tbody tr th {\n",
       "        vertical-align: top;\n",
       "    }\n",
       "\n",
       "    .dataframe thead th {\n",
       "        text-align: right;\n",
       "    }\n",
       "</style>\n",
       "<table border=\"1\" class=\"dataframe\">\n",
       "  <thead>\n",
       "    <tr style=\"text-align: right;\">\n",
       "      <th></th>\n",
       "      <th>position</th>\n",
       "      <th>userId</th>\n",
       "      <th>frequency</th>\n",
       "    </tr>\n",
       "  </thead>\n",
       "  <tbody>\n",
       "    <tr>\n",
       "      <th>0</th>\n",
       "      <td>0</td>\n",
       "      <td>158192</td>\n",
       "      <td>0.947490</td>\n",
       "    </tr>\n",
       "    <tr>\n",
       "      <th>1</th>\n",
       "      <td>1</td>\n",
       "      <td>1582</td>\n",
       "      <td>0.009475</td>\n",
       "    </tr>\n",
       "    <tr>\n",
       "      <th>2</th>\n",
       "      <td>2</td>\n",
       "      <td>953</td>\n",
       "      <td>0.005708</td>\n",
       "    </tr>\n",
       "    <tr>\n",
       "      <th>3</th>\n",
       "      <td>3</td>\n",
       "      <td>780</td>\n",
       "      <td>0.004672</td>\n",
       "    </tr>\n",
       "    <tr>\n",
       "      <th>4</th>\n",
       "      <td>4</td>\n",
       "      <td>775</td>\n",
       "      <td>0.004642</td>\n",
       "    </tr>\n",
       "    <tr>\n",
       "      <th>5</th>\n",
       "      <td>5</td>\n",
       "      <td>685</td>\n",
       "      <td>0.004103</td>\n",
       "    </tr>\n",
       "    <tr>\n",
       "      <th>6</th>\n",
       "      <td>6</td>\n",
       "      <td>676</td>\n",
       "      <td>0.004049</td>\n",
       "    </tr>\n",
       "    <tr>\n",
       "      <th>7</th>\n",
       "      <td>7</td>\n",
       "      <td>642</td>\n",
       "      <td>0.003845</td>\n",
       "    </tr>\n",
       "    <tr>\n",
       "      <th>8</th>\n",
       "      <td>8</td>\n",
       "      <td>600</td>\n",
       "      <td>0.003594</td>\n",
       "    </tr>\n",
       "    <tr>\n",
       "      <th>9</th>\n",
       "      <td>9</td>\n",
       "      <td>509</td>\n",
       "      <td>0.003049</td>\n",
       "    </tr>\n",
       "    <tr>\n",
       "      <th>10</th>\n",
       "      <td>10</td>\n",
       "      <td>417</td>\n",
       "      <td>0.002498</td>\n",
       "    </tr>\n",
       "    <tr>\n",
       "      <th>11</th>\n",
       "      <td>11</td>\n",
       "      <td>401</td>\n",
       "      <td>0.002402</td>\n",
       "    </tr>\n",
       "    <tr>\n",
       "      <th>12</th>\n",
       "      <td>12</td>\n",
       "      <td>359</td>\n",
       "      <td>0.002150</td>\n",
       "    </tr>\n",
       "    <tr>\n",
       "      <th>13</th>\n",
       "      <td>13</td>\n",
       "      <td>388</td>\n",
       "      <td>0.002324</td>\n",
       "    </tr>\n",
       "  </tbody>\n",
       "</table>\n",
       "</div>"
      ],
      "text/plain": [
       "    position  userId  frequency\n",
       "0          0  158192   0.947490\n",
       "1          1    1582   0.009475\n",
       "2          2     953   0.005708\n",
       "3          3     780   0.004672\n",
       "4          4     775   0.004642\n",
       "5          5     685   0.004103\n",
       "6          6     676   0.004049\n",
       "7          7     642   0.003845\n",
       "8          8     600   0.003594\n",
       "9          9     509   0.003049\n",
       "10        10     417   0.002498\n",
       "11        11     401   0.002402\n",
       "12        12     359   0.002150\n",
       "13        13     388   0.002324"
      ]
     },
     "execution_count": 18,
     "metadata": {},
     "output_type": "execute_result"
    }
   ],
   "source": [
    "totalclick_position_count"
   ]
  },
  {
   "cell_type": "markdown",
   "metadata": {},
   "source": [
    "#### Exclude position 0"
   ]
  },
  {
   "cell_type": "code",
   "execution_count": 19,
   "metadata": {},
   "outputs": [
    {
     "data": {
      "text/plain": [
       "position       91.00000\n",
       "userId       8767.00000\n",
       "frequency       0.05251\n",
       "dtype: float64"
      ]
     },
     "execution_count": 19,
     "metadata": {},
     "output_type": "execute_result"
    }
   ],
   "source": [
    "recclick_position_count_exclude0 = totalclick_position_count[1:].copy()\n",
    "recclick_position_count_exclude0.sum()"
   ]
  },
  {
   "cell_type": "code",
   "execution_count": 20,
   "metadata": {},
   "outputs": [
    {
     "data": {
      "text/html": [
       "<div>\n",
       "<style scoped>\n",
       "    .dataframe tbody tr th:only-of-type {\n",
       "        vertical-align: middle;\n",
       "    }\n",
       "\n",
       "    .dataframe tbody tr th {\n",
       "        vertical-align: top;\n",
       "    }\n",
       "\n",
       "    .dataframe thead th {\n",
       "        text-align: right;\n",
       "    }\n",
       "</style>\n",
       "<table border=\"1\" class=\"dataframe\">\n",
       "  <thead>\n",
       "    <tr style=\"text-align: right;\">\n",
       "      <th></th>\n",
       "      <th>position</th>\n",
       "      <th>userId</th>\n",
       "      <th>frequency</th>\n",
       "      <th>Frequency</th>\n",
       "    </tr>\n",
       "  </thead>\n",
       "  <tbody>\n",
       "    <tr>\n",
       "      <th>1</th>\n",
       "      <td>1</td>\n",
       "      <td>1582</td>\n",
       "      <td>0.009475</td>\n",
       "      <td>0.180449</td>\n",
       "    </tr>\n",
       "    <tr>\n",
       "      <th>2</th>\n",
       "      <td>2</td>\n",
       "      <td>953</td>\n",
       "      <td>0.005708</td>\n",
       "      <td>0.108703</td>\n",
       "    </tr>\n",
       "    <tr>\n",
       "      <th>3</th>\n",
       "      <td>3</td>\n",
       "      <td>780</td>\n",
       "      <td>0.004672</td>\n",
       "      <td>0.088970</td>\n",
       "    </tr>\n",
       "    <tr>\n",
       "      <th>4</th>\n",
       "      <td>4</td>\n",
       "      <td>775</td>\n",
       "      <td>0.004642</td>\n",
       "      <td>0.088400</td>\n",
       "    </tr>\n",
       "    <tr>\n",
       "      <th>5</th>\n",
       "      <td>5</td>\n",
       "      <td>685</td>\n",
       "      <td>0.004103</td>\n",
       "      <td>0.078134</td>\n",
       "    </tr>\n",
       "    <tr>\n",
       "      <th>6</th>\n",
       "      <td>6</td>\n",
       "      <td>676</td>\n",
       "      <td>0.004049</td>\n",
       "      <td>0.077107</td>\n",
       "    </tr>\n",
       "    <tr>\n",
       "      <th>7</th>\n",
       "      <td>7</td>\n",
       "      <td>642</td>\n",
       "      <td>0.003845</td>\n",
       "      <td>0.073229</td>\n",
       "    </tr>\n",
       "    <tr>\n",
       "      <th>8</th>\n",
       "      <td>8</td>\n",
       "      <td>600</td>\n",
       "      <td>0.003594</td>\n",
       "      <td>0.068438</td>\n",
       "    </tr>\n",
       "    <tr>\n",
       "      <th>9</th>\n",
       "      <td>9</td>\n",
       "      <td>509</td>\n",
       "      <td>0.003049</td>\n",
       "      <td>0.058059</td>\n",
       "    </tr>\n",
       "    <tr>\n",
       "      <th>10</th>\n",
       "      <td>10</td>\n",
       "      <td>417</td>\n",
       "      <td>0.002498</td>\n",
       "      <td>0.047565</td>\n",
       "    </tr>\n",
       "    <tr>\n",
       "      <th>11</th>\n",
       "      <td>11</td>\n",
       "      <td>401</td>\n",
       "      <td>0.002402</td>\n",
       "      <td>0.045740</td>\n",
       "    </tr>\n",
       "    <tr>\n",
       "      <th>12</th>\n",
       "      <td>12</td>\n",
       "      <td>359</td>\n",
       "      <td>0.002150</td>\n",
       "      <td>0.040949</td>\n",
       "    </tr>\n",
       "    <tr>\n",
       "      <th>13</th>\n",
       "      <td>13</td>\n",
       "      <td>388</td>\n",
       "      <td>0.002324</td>\n",
       "      <td>0.044257</td>\n",
       "    </tr>\n",
       "  </tbody>\n",
       "</table>\n",
       "</div>"
      ],
      "text/plain": [
       "    position  userId  frequency  Frequency\n",
       "1          1    1582   0.009475   0.180449\n",
       "2          2     953   0.005708   0.108703\n",
       "3          3     780   0.004672   0.088970\n",
       "4          4     775   0.004642   0.088400\n",
       "5          5     685   0.004103   0.078134\n",
       "6          6     676   0.004049   0.077107\n",
       "7          7     642   0.003845   0.073229\n",
       "8          8     600   0.003594   0.068438\n",
       "9          9     509   0.003049   0.058059\n",
       "10        10     417   0.002498   0.047565\n",
       "11        11     401   0.002402   0.045740\n",
       "12        12     359   0.002150   0.040949\n",
       "13        13     388   0.002324   0.044257"
      ]
     },
     "execution_count": 20,
     "metadata": {},
     "output_type": "execute_result"
    }
   ],
   "source": [
    "recclick_position_count_exclude0['Frequency']=recclick_position_count_exclude0['userId']/8767\n",
    "recclick_position_count_exclude0"
   ]
  },
  {
   "cell_type": "code",
   "execution_count": 21,
   "metadata": {
    "scrolled": true
   },
   "outputs": [
    {
     "data": {
      "image/png": "[encoded data removed]",
      "text/plain": [
       "<matplotlib.figure.Figure at 0x1a12c3b940>"
      ]
     },
     "metadata": {},
     "output_type": "display_data"
    }
   ],
   "source": [
    "# Visualize the distribution\n",
    "# sns.set(color_codes=False)\n",
    "f, ax = plt.subplots(1)\n",
    "sns.set(font_scale=1.5) \n",
    "sns.set_style(\"white\")\n",
    "ax = sns.barplot(x=\"position\", y=\"Frequency\", data=recclick_position_count_exclude0,color='#3498db')\n"
   ]
  },
  {
   "cell_type": "code",
   "execution_count": 27,
   "metadata": {
    "collapsed": true
   },
   "outputs": [],
   "source": [
    "def savefig(figure, name):\n",
    "    for fmt in ['pdf', 'eps']:\n",
    "        fn = \"../Graphs/{}.{}\".format(name, fmt)\n",
    "        figure.savefig(fn, format=fmt, dpi=300, bbox_inches='tight', pad_inches=0.1, frameon=True)\n",
    "        print(\"saved figure {} as {}\".format(figure, fn))"
   ]
  },
  {
   "cell_type": "code",
   "execution_count": 28,
   "metadata": {},
   "outputs": [
    {
     "name": "stdout",
     "output_type": "stream",
     "text": [
      "saved figure Figure(432x288) as ../Graphs/clicks_on_position.pdf\n",
      "saved figure Figure(432x288) as ../Graphs/clicks_on_position.eps\n"
     ]
    }
   ],
   "source": [
    "savefig(f, \"clicks_on_position\")"
   ]
  },
  {
   "cell_type": "code",
   "execution_count": null,
   "metadata": {
    "collapsed": true
   },
   "outputs": [],
   "source": []
  }
 ],
 "metadata": {
  "kernelspec": {
   "display_name": "Python 3",
   "language": "python",
   "name": "python3"
  },
  "language_info": {
   "codemirror_mode": {
    "name": "ipython",
    "version": 3
   },
   "file_extension": ".py",
   "mimetype": "text/x-python",
   "name": "python",
   "nbconvert_exporter": "python",
   "pygments_lexer": "ipython3",
   "version": "3.6.4"
  }
 },
 "nbformat": 4,
 "nbformat_minor": 2
}
