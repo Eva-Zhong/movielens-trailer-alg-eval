{
 "cells": [
  {
   "cell_type": "markdown",
   "metadata": {},
   "source": [
    "Data Date Range:\n",
    "    <br />Start time: 2016-05-05 09:40:26\n",
    "    <br />End time: 2018-01-17 01:59:42\n",
    "    \n",
    "#### This notebook does the following analysis:\n",
    "All trailers that are viewed:\n",
    "    - Quantiles, distribution, boxplots of popularity, avgRating, age of all movies whose trailers are played\n",
    "\n",
    "All recommendations:\n",
    "- Quantiles, distributions, boxplots of popularity, avgRating, age of all trailers, grouped by algorithms"
   ]
  },
  {
   "cell_type": "markdown",
   "metadata": {},
   "source": [
    "#### The data used below is based on the data retrieved on 1.17.2018"
   ]
  },
  {
   "cell_type": "code",
   "execution_count": 1,
   "metadata": {},
   "outputs": [],
   "source": [
    "import pandas as pd\n",
    "import numpy as np"
   ]
  },
  {
   "cell_type": "code",
   "execution_count": 2,
   "metadata": {},
   "outputs": [],
   "source": [
    "%matplotlib inline\n",
    "import matplotlib as mpl\n",
    "import matplotlib.pyplot as plt\n",
    "import seaborn as sns"
   ]
  },
  {
   "cell_type": "markdown",
   "metadata": {},
   "source": [
    "### Find median popularity, avgRating, age for all trailers played"
   ]
  },
  {
   "cell_type": "code",
   "execution_count": 3,
   "metadata": {},
   "outputs": [],
   "source": [
    "trailers_played = pd.read_csv('../Clean_Data/trailers_played_info.csv')"
   ]
  },
  {
   "cell_type": "code",
   "execution_count": 4,
   "metadata": {},
   "outputs": [],
   "source": [
    "trailers_played.drop(\"Unnamed: 0\",axis=1,inplace=True)"
   ]
  },
  {
   "cell_type": "code",
   "execution_count": 5,
   "metadata": {
    "scrolled": true
   },
   "outputs": [
    {
     "data": {
      "text/html": [
       "<div>\n",
       "<style scoped>\n",
       "    .dataframe tbody tr th:only-of-type {\n",
       "        vertical-align: middle;\n",
       "    }\n",
       "\n",
       "    .dataframe tbody tr th {\n",
       "        vertical-align: top;\n",
       "    }\n",
       "\n",
       "    .dataframe thead th {\n",
       "        text-align: right;\n",
       "    }\n",
       "</style>\n",
       "<table border=\"1\" class=\"dataframe\">\n",
       "  <thead>\n",
       "    <tr style=\"text-align: right;\">\n",
       "      <th></th>\n",
       "      <th>userId</th>\n",
       "      <th>loginId</th>\n",
       "      <th>movieId</th>\n",
       "      <th>action</th>\n",
       "      <th>avgRating</th>\n",
       "      <th>popularityLastYear</th>\n",
       "      <th>age_month</th>\n",
       "      <th>count</th>\n",
       "    </tr>\n",
       "  </thead>\n",
       "  <tbody>\n",
       "    <tr>\n",
       "      <th>0</th>\n",
       "      <td>206537</td>\n",
       "      <td>trHzqo0</td>\n",
       "      <td>148482</td>\n",
       "      <td>PlayedFromLaunch</td>\n",
       "      <td>3.42</td>\n",
       "      <td>15.0</td>\n",
       "      <td>16.83</td>\n",
       "      <td>8</td>\n",
       "    </tr>\n",
       "    <tr>\n",
       "      <th>1</th>\n",
       "      <td>285205</td>\n",
       "      <td>amb977W</td>\n",
       "      <td>66156</td>\n",
       "      <td>PlayedFromLaunch</td>\n",
       "      <td>3.31</td>\n",
       "      <td>4.0</td>\n",
       "      <td>252.25</td>\n",
       "      <td>3</td>\n",
       "    </tr>\n",
       "    <tr>\n",
       "      <th>2</th>\n",
       "      <td>283320</td>\n",
       "      <td>5NUxm3d</td>\n",
       "      <td>4612</td>\n",
       "      <td>PlayedFromLaunch</td>\n",
       "      <td>3.78</td>\n",
       "      <td>5.0</td>\n",
       "      <td>789.75</td>\n",
       "      <td>2</td>\n",
       "    </tr>\n",
       "    <tr>\n",
       "      <th>3</th>\n",
       "      <td>271845</td>\n",
       "      <td>28lSfpJ</td>\n",
       "      <td>60684</td>\n",
       "      <td>PlayedFromLaunch</td>\n",
       "      <td>3.71</td>\n",
       "      <td>1738.0</td>\n",
       "      <td>218.08</td>\n",
       "      <td>134</td>\n",
       "    </tr>\n",
       "    <tr>\n",
       "      <th>4</th>\n",
       "      <td>271845</td>\n",
       "      <td>28lSfpJ</td>\n",
       "      <td>4448</td>\n",
       "      <td>PlayedFromLaunch</td>\n",
       "      <td>3.47</td>\n",
       "      <td>200.0</td>\n",
       "      <td>450.83</td>\n",
       "      <td>69</td>\n",
       "    </tr>\n",
       "  </tbody>\n",
       "</table>\n",
       "</div>"
      ],
      "text/plain": [
       "   userId  loginId  movieId            action  avgRating  popularityLastYear  \\\n",
       "0  206537  trHzqo0   148482  PlayedFromLaunch       3.42                15.0   \n",
       "1  285205  amb977W    66156  PlayedFromLaunch       3.31                 4.0   \n",
       "2  283320  5NUxm3d     4612  PlayedFromLaunch       3.78                 5.0   \n",
       "3  271845  28lSfpJ    60684  PlayedFromLaunch       3.71              1738.0   \n",
       "4  271845  28lSfpJ     4448  PlayedFromLaunch       3.47               200.0   \n",
       "\n",
       "   age_month  count  \n",
       "0      16.83      8  \n",
       "1     252.25      3  \n",
       "2     789.75      2  \n",
       "3     218.08    134  \n",
       "4     450.83     69  "
      ]
     },
     "execution_count": 5,
     "metadata": {},
     "output_type": "execute_result"
    }
   ],
   "source": [
    "trailers_played.head()"
   ]
  },
  {
   "cell_type": "code",
   "execution_count": 64,
   "metadata": {},
   "outputs": [
    {
     "data": {
      "text/plain": [
       "userId                267315.00\n",
       "movieId                 6035.00\n",
       "avgRating                  3.27\n",
       "popularityLastYear        37.00\n",
       "age_month                 77.17\n",
       "count                     12.00\n",
       "Name: 0.25, dtype: float64"
      ]
     },
     "execution_count": 64,
     "metadata": {},
     "output_type": "execute_result"
    }
   ],
   "source": [
    "trailers_played.quantile(0.25)"
   ]
  },
  {
   "cell_type": "code",
   "execution_count": 65,
   "metadata": {
    "scrolled": true
   },
   "outputs": [
    {
     "data": {
      "text/plain": [
       "userId                289112.00\n",
       "movieId                74458.00\n",
       "avgRating                  3.61\n",
       "popularityLastYear       192.00\n",
       "age_month                245.42\n",
       "count                     36.00\n",
       "dtype: float64"
      ]
     },
     "execution_count": 65,
     "metadata": {},
     "output_type": "execute_result"
    }
   ],
   "source": [
    "trailers_played.median()"
   ]
  },
  {
   "cell_type": "code",
   "execution_count": 11,
   "metadata": {
    "scrolled": true
   },
   "outputs": [
    {
     "data": {
      "text/plain": [
       "Unnamed: 0            136482.00\n",
       "userId                303006.00\n",
       "movieId               127202.00\n",
       "avgRating                  3.85\n",
       "popularityLastYear       711.00\n",
       "age_month                503.58\n",
       "count                     91.00\n",
       "Name: 0.75, dtype: float64"
      ]
     },
     "execution_count": 11,
     "metadata": {},
     "output_type": "execute_result"
    }
   ],
   "source": [
    "trailers_played.quantile(0.75)"
   ]
  },
  {
   "cell_type": "markdown",
   "metadata": {},
   "source": [
    "### Visualize the number of times trailers are played"
   ]
  },
  {
   "cell_type": "code",
   "execution_count": 10,
   "metadata": {
    "collapsed": true
   },
   "outputs": [],
   "source": [
    "trailers_played_count = trailers_played[['movieId','count']].copy()"
   ]
  },
  {
   "cell_type": "code",
   "execution_count": 11,
   "metadata": {
    "collapsed": true
   },
   "outputs": [],
   "source": [
    "trailers_played_count.sort_values(by=[\"count\"],inplace=True)"
   ]
  },
  {
   "cell_type": "code",
   "execution_count": 12,
   "metadata": {
    "collapsed": true
   },
   "outputs": [],
   "source": [
    "trailers_played_count.reset_index(drop=True,inplace=True)"
   ]
  },
  {
   "cell_type": "code",
   "execution_count": 13,
   "metadata": {
    "collapsed": true
   },
   "outputs": [],
   "source": [
    "trailers_played_count.reset_index(inplace=True)"
   ]
  },
  {
   "cell_type": "code",
   "execution_count": 14,
   "metadata": {
    "collapsed": true
   },
   "outputs": [],
   "source": [
    "trailers_played_count['row_id'] = trailers_played_count.index\n",
    "trailers_played_count.drop_duplicates(subset=\"movieId\",inplace=True)"
   ]
  },
  {
   "cell_type": "code",
   "execution_count": 16,
   "metadata": {},
   "outputs": [
    {
     "data": {
      "text/html": [
       "<div>\n",
       "<style>\n",
       "    .dataframe thead tr:only-child th {\n",
       "        text-align: right;\n",
       "    }\n",
       "\n",
       "    .dataframe thead th {\n",
       "        text-align: left;\n",
       "    }\n",
       "\n",
       "    .dataframe tbody tr th {\n",
       "        vertical-align: top;\n",
       "    }\n",
       "</style>\n",
       "<table border=\"1\" class=\"dataframe\">\n",
       "  <thead>\n",
       "    <tr style=\"text-align: right;\">\n",
       "      <th></th>\n",
       "      <th>index</th>\n",
       "      <th>movieId</th>\n",
       "      <th>count</th>\n",
       "      <th>row_id</th>\n",
       "    </tr>\n",
       "  </thead>\n",
       "  <tbody>\n",
       "    <tr>\n",
       "      <th>179903</th>\n",
       "      <td>179903</td>\n",
       "      <td>140174</td>\n",
       "      <td>367</td>\n",
       "      <td>179903</td>\n",
       "    </tr>\n",
       "    <tr>\n",
       "      <th>180270</th>\n",
       "      <td>180270</td>\n",
       "      <td>318</td>\n",
       "      <td>368</td>\n",
       "      <td>180270</td>\n",
       "    </tr>\n",
       "    <tr>\n",
       "      <th>180638</th>\n",
       "      <td>180638</td>\n",
       "      <td>114935</td>\n",
       "      <td>403</td>\n",
       "      <td>180638</td>\n",
       "    </tr>\n",
       "    <tr>\n",
       "      <th>181041</th>\n",
       "      <td>181041</td>\n",
       "      <td>68237</td>\n",
       "      <td>457</td>\n",
       "      <td>181041</td>\n",
       "    </tr>\n",
       "    <tr>\n",
       "      <th>181498</th>\n",
       "      <td>181498</td>\n",
       "      <td>160718</td>\n",
       "      <td>479</td>\n",
       "      <td>181498</td>\n",
       "    </tr>\n",
       "  </tbody>\n",
       "</table>\n",
       "</div>"
      ],
      "text/plain": [
       "         index  movieId  count  row_id\n",
       "179903  179903   140174    367  179903\n",
       "180270  180270      318    368  180270\n",
       "180638  180638   114935    403  180638\n",
       "181041  181041    68237    457  181041\n",
       "181498  181498   160718    479  181498"
      ]
     },
     "execution_count": 16,
     "metadata": {},
     "output_type": "execute_result"
    }
   ],
   "source": [
    "trailers_played_count.tail()"
   ]
  },
  {
   "cell_type": "code",
   "execution_count": 15,
   "metadata": {},
   "outputs": [
    {
     "data": {
      "text/plain": [
       "(0, 200)"
      ]
     },
     "execution_count": 15,
     "metadata": {},
     "output_type": "execute_result"
    },
    {
     "data": {
      "image/png": "[encoded data removed]",
      "text/plain": [
       "<matplotlib.figure.Figure at 0x1a1528e4a8>"
      ]
     },
     "metadata": {},
     "output_type": "display_data"
    }
   ],
   "source": [
    "ax = sns.distplot(trailers_played_count['count'],\n",
    "             hist_kws=dict(cumulative=True),\n",
    "             kde_kws=dict(cumulative=True), bins=100)\n",
    "ax.set_xlim(0,200)"
   ]
  },
  {
   "cell_type": "code",
   "execution_count": 19,
   "metadata": {},
   "outputs": [
    {
     "data": {
      "image/png": "[encoded data removed]",
      "text/plain": [
       "<matplotlib.figure.Figure at 0x1a1008d438>"
      ]
     },
     "metadata": {},
     "output_type": "display_data"
    }
   ],
   "source": [
    "x4 = pd.Series(trailers_played['count'], name=\"count\")\n",
    "ax = sns.distplot(x4, bins=100)"
   ]
  },
  {
   "cell_type": "markdown",
   "metadata": {},
   "source": [
    "### Distribution of popularity, avgRating, age of RC trailers"
   ]
  },
  {
   "cell_type": "code",
   "execution_count": 9,
   "metadata": {},
   "outputs": [],
   "source": [
    "rec_played = pd.read_csv(\"../Clean_Data/rec_played_alg.csv\")"
   ]
  },
  {
   "cell_type": "code",
   "execution_count": 10,
   "metadata": {},
   "outputs": [],
   "source": [
    "rec_seed_info = pd.read_csv(\"../Clean_Data/rec_seed_info.csv\")"
   ]
  },
  {
   "cell_type": "code",
   "execution_count": 11,
   "metadata": {},
   "outputs": [],
   "source": [
    "rec_seed_info.drop_duplicates([\"movieId\"],inplace=True)"
   ]
  },
  {
   "cell_type": "code",
   "execution_count": 13,
   "metadata": {},
   "outputs": [],
   "source": [
    "rec_played_info = pd.merge(rec_played, rec_seed_info, on=['movieId'], how='left')"
   ]
  },
  {
   "cell_type": "code",
   "execution_count": 14,
   "metadata": {},
   "outputs": [],
   "source": [
    "rec_played_info.drop([\"Unnamed: 0\",\"action\",\"loginId_y\",\"sessionIds_y\",\"userId_y\"], axis=1, inplace=True)"
   ]
  },
  {
   "cell_type": "code",
   "execution_count": 37,
   "metadata": {},
   "outputs": [
    {
     "data": {
      "text/plain": [
       "userId_x                        295737.00\n",
       "movieId                          83155.50\n",
       "position                             5.00\n",
       "sessionIds_x                         2.00\n",
       "SeedMovie                        67997.00\n",
       "avgRating                            3.59\n",
       "popularityLastYear                 203.00\n",
       "avgRating_seedmovie                  3.66\n",
       "popularityLastYear_seedmovie       242.00\n",
       "age_month                           85.77\n",
       "age_seedmovie_month                 98.00\n",
       "dtype: float64"
      ]
     },
     "execution_count": 37,
     "metadata": {},
     "output_type": "execute_result"
    }
   ],
   "source": [
    "rec_played_info.median()"
   ]
  },
  {
   "cell_type": "code",
   "execution_count": 38,
   "metadata": {},
   "outputs": [
    {
     "data": {
      "text/plain": [
       "userId_x                        279017.00\n",
       "movieId                           5546.25\n",
       "position                             2.00\n",
       "sessionIds_x                         1.00\n",
       "SeedMovie                         5995.00\n",
       "avgRating                            3.27\n",
       "popularityLastYear                  66.00\n",
       "avgRating_seedmovie                  3.40\n",
       "popularityLastYear_seedmovie        81.00\n",
       "age_month                           22.77\n",
       "age_seedmovie_month                 33.00\n",
       "Name: 0.25, dtype: float64"
      ]
     },
     "execution_count": 38,
     "metadata": {},
     "output_type": "execute_result"
    }
   ],
   "source": [
    "rec_played_info.quantile(0.25)"
   ]
  },
  {
   "cell_type": "code",
   "execution_count": 39,
   "metadata": {
    "scrolled": true
   },
   "outputs": [
    {
     "data": {
      "text/plain": [
       "userId_x                        305672.00\n",
       "movieId                         133273.00\n",
       "position                             8.00\n",
       "sessionIds_x                         6.00\n",
       "SeedMovie                       111384.00\n",
       "avgRating                            3.84\n",
       "popularityLastYear                 750.00\n",
       "avgRating_seedmovie                  3.84\n",
       "popularityLastYear_seedmovie       908.00\n",
       "age_month                          205.70\n",
       "age_seedmovie_month                186.00\n",
       "Name: 0.75, dtype: float64"
      ]
     },
     "execution_count": 39,
     "metadata": {},
     "output_type": "execute_result"
    }
   ],
   "source": [
    "rec_played_info.quantile(0.75)"
   ]
  },
  {
   "cell_type": "markdown",
   "metadata": {},
   "source": [
    "### Find median popularity, avgRating, age for all recommendations"
   ]
  },
  {
   "cell_type": "code",
   "execution_count": 15,
   "metadata": {},
   "outputs": [],
   "source": [
    "#Drop rows with any NA values\n",
    "rec_info = pd.read_csv('../Clean_Data/rec_movieinfo_wpopularity_agemonth.csv')\n",
    "# movie_data_rec_small = movie_data_rec[movie_data_rec['popularity']!=0].dropna(how='any')\n",
    "# rec_info_small = rec_info.drop('Unnamed: 0',axis=1).dropna()\n"
   ]
  },
  {
   "cell_type": "code",
   "execution_count": 16,
   "metadata": {},
   "outputs": [],
   "source": [
    "rec_count = rec_info.groupby([\"Algorithm\",\"movieId\"]).count().reset_index()"
   ]
  },
  {
   "cell_type": "code",
   "execution_count": 17,
   "metadata": {},
   "outputs": [],
   "source": [
    "rec_count2 = rec_count.drop(['SeedMovie','avgRating','popularityLastYear','age_month'],axis=1).rename(columns={\"loginId\":\"count\"})\n"
   ]
  },
  {
   "cell_type": "code",
   "execution_count": 18,
   "metadata": {},
   "outputs": [],
   "source": [
    "rec_info_count = pd.merge(rec_info, rec_count2, on=[\"movieId\",\"Algorithm\"], how=\"left\")"
   ]
  },
  {
   "cell_type": "code",
   "execution_count": 19,
   "metadata": {
    "scrolled": true
   },
   "outputs": [
    {
     "data": {
      "text/html": [
       "<div>\n",
       "<style scoped>\n",
       "    .dataframe tbody tr th:only-of-type {\n",
       "        vertical-align: middle;\n",
       "    }\n",
       "\n",
       "    .dataframe tbody tr th {\n",
       "        vertical-align: top;\n",
       "    }\n",
       "\n",
       "    .dataframe thead th {\n",
       "        text-align: right;\n",
       "    }\n",
       "</style>\n",
       "<table border=\"1\" class=\"dataframe\">\n",
       "  <thead>\n",
       "    <tr style=\"text-align: right;\">\n",
       "      <th></th>\n",
       "      <th>Algorithm</th>\n",
       "      <th>SeedMovie</th>\n",
       "      <th>loginId</th>\n",
       "      <th>movieId</th>\n",
       "      <th>avgRating</th>\n",
       "      <th>popularityLastYear</th>\n",
       "      <th>age_month</th>\n",
       "      <th>count</th>\n",
       "    </tr>\n",
       "  </thead>\n",
       "  <tbody>\n",
       "    <tr>\n",
       "      <th>0</th>\n",
       "      <td>PredictedRating</td>\n",
       "      <td>4612</td>\n",
       "      <td>5NUxm3d</td>\n",
       "      <td>1354</td>\n",
       "      <td>3.85</td>\n",
       "      <td>106.0</td>\n",
       "      <td>592.58</td>\n",
       "      <td>95</td>\n",
       "    </tr>\n",
       "    <tr>\n",
       "      <th>1</th>\n",
       "      <td>PredictedRating</td>\n",
       "      <td>4612</td>\n",
       "      <td>5NUxm3d</td>\n",
       "      <td>5772</td>\n",
       "      <td>3.83</td>\n",
       "      <td>36.0</td>\n",
       "      <td>1052.08</td>\n",
       "      <td>131</td>\n",
       "    </tr>\n",
       "    <tr>\n",
       "      <th>2</th>\n",
       "      <td>PredictedRating</td>\n",
       "      <td>4612</td>\n",
       "      <td>5NUxm3d</td>\n",
       "      <td>6981</td>\n",
       "      <td>3.97</td>\n",
       "      <td>21.0</td>\n",
       "      <td>1866.33</td>\n",
       "      <td>7</td>\n",
       "    </tr>\n",
       "    <tr>\n",
       "      <th>3</th>\n",
       "      <td>PredictedRating</td>\n",
       "      <td>4612</td>\n",
       "      <td>5NUxm3d</td>\n",
       "      <td>1358</td>\n",
       "      <td>3.98</td>\n",
       "      <td>187.0</td>\n",
       "      <td>591.58</td>\n",
       "      <td>132</td>\n",
       "    </tr>\n",
       "    <tr>\n",
       "      <th>4</th>\n",
       "      <td>PredictedRating</td>\n",
       "      <td>4612</td>\n",
       "      <td>5NUxm3d</td>\n",
       "      <td>2858</td>\n",
       "      <td>4.13</td>\n",
       "      <td>3333.0</td>\n",
       "      <td>506.42</td>\n",
       "      <td>3511</td>\n",
       "    </tr>\n",
       "  </tbody>\n",
       "</table>\n",
       "</div>"
      ],
      "text/plain": [
       "         Algorithm  SeedMovie  loginId  movieId  avgRating  \\\n",
       "0  PredictedRating       4612  5NUxm3d     1354       3.85   \n",
       "1  PredictedRating       4612  5NUxm3d     5772       3.83   \n",
       "2  PredictedRating       4612  5NUxm3d     6981       3.97   \n",
       "3  PredictedRating       4612  5NUxm3d     1358       3.98   \n",
       "4  PredictedRating       4612  5NUxm3d     2858       4.13   \n",
       "\n",
       "   popularityLastYear  age_month  count  \n",
       "0               106.0     592.58     95  \n",
       "1                36.0    1052.08    131  \n",
       "2                21.0    1866.33      7  \n",
       "3               187.0     591.58    132  \n",
       "4              3333.0     506.42   3511  "
      ]
     },
     "execution_count": 19,
     "metadata": {},
     "output_type": "execute_result"
    }
   ],
   "source": [
    "rec_info_count.head()"
   ]
  },
  {
   "cell_type": "code",
   "execution_count": 20,
   "metadata": {},
   "outputs": [
    {
     "data": {
      "text/html": [
       "<div>\n",
       "<style scoped>\n",
       "    .dataframe tbody tr th:only-of-type {\n",
       "        vertical-align: middle;\n",
       "    }\n",
       "\n",
       "    .dataframe tbody tr th {\n",
       "        vertical-align: top;\n",
       "    }\n",
       "\n",
       "    .dataframe thead th {\n",
       "        text-align: right;\n",
       "    }\n",
       "</style>\n",
       "<table border=\"1\" class=\"dataframe\">\n",
       "  <thead>\n",
       "    <tr style=\"text-align: right;\">\n",
       "      <th>0.25</th>\n",
       "      <th>SeedMovie</th>\n",
       "      <th>age_month</th>\n",
       "      <th>avgRating</th>\n",
       "      <th>count</th>\n",
       "      <th>movieId</th>\n",
       "      <th>popularityLastYear</th>\n",
       "    </tr>\n",
       "    <tr>\n",
       "      <th>Algorithm</th>\n",
       "      <th></th>\n",
       "      <th></th>\n",
       "      <th></th>\n",
       "      <th></th>\n",
       "      <th></th>\n",
       "      <th></th>\n",
       "    </tr>\n",
       "  </thead>\n",
       "  <tbody>\n",
       "    <tr>\n",
       "      <th>FilmReleaseDate</th>\n",
       "      <td>4571.0</td>\n",
       "      <td>30.75</td>\n",
       "      <td>3.28</td>\n",
       "      <td>293.0</td>\n",
       "      <td>115569.0</td>\n",
       "      <td>97.0</td>\n",
       "    </tr>\n",
       "    <tr>\n",
       "      <th>PredictedRating</th>\n",
       "      <td>4493.0</td>\n",
       "      <td>179.75</td>\n",
       "      <td>3.61</td>\n",
       "      <td>96.0</td>\n",
       "      <td>2360.0</td>\n",
       "      <td>217.0</td>\n",
       "    </tr>\n",
       "    <tr>\n",
       "      <th>ShuffledTopPicks</th>\n",
       "      <td>6187.0</td>\n",
       "      <td>214.08</td>\n",
       "      <td>2.98</td>\n",
       "      <td>71.0</td>\n",
       "      <td>546.0</td>\n",
       "      <td>4.0</td>\n",
       "    </tr>\n",
       "    <tr>\n",
       "      <th>TagSimilarity</th>\n",
       "      <td>4628.0</td>\n",
       "      <td>220.58</td>\n",
       "      <td>3.34</td>\n",
       "      <td>53.0</td>\n",
       "      <td>3300.0</td>\n",
       "      <td>43.0</td>\n",
       "    </tr>\n",
       "  </tbody>\n",
       "</table>\n",
       "</div>"
      ],
      "text/plain": [
       "0.25              SeedMovie  age_month  avgRating  count   movieId  \\\n",
       "Algorithm                                                            \n",
       "FilmReleaseDate      4571.0      30.75       3.28  293.0  115569.0   \n",
       "PredictedRating      4493.0     179.75       3.61   96.0    2360.0   \n",
       "ShuffledTopPicks     6187.0     214.08       2.98   71.0     546.0   \n",
       "TagSimilarity        4628.0     220.58       3.34   53.0    3300.0   \n",
       "\n",
       "0.25              popularityLastYear  \n",
       "Algorithm                             \n",
       "FilmReleaseDate                 97.0  \n",
       "PredictedRating                217.0  \n",
       "ShuffledTopPicks                 4.0  \n",
       "TagSimilarity                   43.0  "
      ]
     },
     "execution_count": 20,
     "metadata": {},
     "output_type": "execute_result"
    }
   ],
   "source": [
    "rec_info_count.groupby(\"Algorithm\").quantile(0.25)"
   ]
  },
  {
   "cell_type": "code",
   "execution_count": 21,
   "metadata": {},
   "outputs": [
    {
     "data": {
      "text/html": [
       "<div>\n",
       "<style scoped>\n",
       "    .dataframe tbody tr th:only-of-type {\n",
       "        vertical-align: middle;\n",
       "    }\n",
       "\n",
       "    .dataframe tbody tr th {\n",
       "        vertical-align: top;\n",
       "    }\n",
       "\n",
       "    .dataframe thead th {\n",
       "        text-align: right;\n",
       "    }\n",
       "</style>\n",
       "<table border=\"1\" class=\"dataframe\">\n",
       "  <thead>\n",
       "    <tr style=\"text-align: right;\">\n",
       "      <th>0.5</th>\n",
       "      <th>SeedMovie</th>\n",
       "      <th>age_month</th>\n",
       "      <th>avgRating</th>\n",
       "      <th>count</th>\n",
       "      <th>movieId</th>\n",
       "      <th>popularityLastYear</th>\n",
       "    </tr>\n",
       "    <tr>\n",
       "      <th>Algorithm</th>\n",
       "      <th></th>\n",
       "      <th></th>\n",
       "      <th></th>\n",
       "      <th></th>\n",
       "      <th></th>\n",
       "      <th></th>\n",
       "    </tr>\n",
       "  </thead>\n",
       "  <tbody>\n",
       "    <tr>\n",
       "      <th>FilmReleaseDate</th>\n",
       "      <td>55247.0</td>\n",
       "      <td>49.58</td>\n",
       "      <td>3.59</td>\n",
       "      <td>730.0</td>\n",
       "      <td>136016.0</td>\n",
       "      <td>213.0</td>\n",
       "    </tr>\n",
       "    <tr>\n",
       "      <th>PredictedRating</th>\n",
       "      <td>55118.0</td>\n",
       "      <td>410.92</td>\n",
       "      <td>3.85</td>\n",
       "      <td>331.0</td>\n",
       "      <td>8529.0</td>\n",
       "      <td>891.0</td>\n",
       "    </tr>\n",
       "    <tr>\n",
       "      <th>ShuffledTopPicks</th>\n",
       "      <td>73023.0</td>\n",
       "      <td>617.33</td>\n",
       "      <td>3.31</td>\n",
       "      <td>142.0</td>\n",
       "      <td>42946.0</td>\n",
       "      <td>70.0</td>\n",
       "    </tr>\n",
       "    <tr>\n",
       "      <th>TagSimilarity</th>\n",
       "      <td>54281.0</td>\n",
       "      <td>422.00</td>\n",
       "      <td>3.65</td>\n",
       "      <td>126.0</td>\n",
       "      <td>8340.0</td>\n",
       "      <td>171.0</td>\n",
       "    </tr>\n",
       "  </tbody>\n",
       "</table>\n",
       "</div>"
      ],
      "text/plain": [
       "0.5               SeedMovie  age_month  avgRating  count   movieId  \\\n",
       "Algorithm                                                            \n",
       "FilmReleaseDate     55247.0      49.58       3.59  730.0  136016.0   \n",
       "PredictedRating     55118.0     410.92       3.85  331.0    8529.0   \n",
       "ShuffledTopPicks    73023.0     617.33       3.31  142.0   42946.0   \n",
       "TagSimilarity       54281.0     422.00       3.65  126.0    8340.0   \n",
       "\n",
       "0.5               popularityLastYear  \n",
       "Algorithm                             \n",
       "FilmReleaseDate                213.0  \n",
       "PredictedRating                891.0  \n",
       "ShuffledTopPicks                70.0  \n",
       "TagSimilarity                  171.0  "
      ]
     },
     "execution_count": 21,
     "metadata": {},
     "output_type": "execute_result"
    }
   ],
   "source": [
    "rec_info_count.groupby(\"Algorithm\").quantile(0.5)"
   ]
  },
  {
   "cell_type": "markdown",
   "metadata": {},
   "source": [
    "### Find the median number of times a movie is recommended by each algorithm"
   ]
  },
  {
   "cell_type": "code",
   "execution_count": 89,
   "metadata": {},
   "outputs": [
    {
     "data": {
      "text/plain": [
       "(0, 200)"
      ]
     },
     "execution_count": 89,
     "metadata": {},
     "output_type": "execute_result"
    },
    {
     "data": {
      "image/png": "[encoded data removed]",
      "text/plain": [
       "<matplotlib.figure.Figure at 0x1a7b838a58>"
      ]
     },
     "metadata": {},
     "output_type": "display_data"
    }
   ],
   "source": [
    "x1 = pd.Series(rec_info_count[rec_info_count[\"Algorithm\"]==\"PredictedRating\"]['count'])\n",
    "ax = sns.distplot(x1,bins=200)\n",
    "ax.set_xlim(0,200)\n"
   ]
  },
  {
   "cell_type": "code",
   "execution_count": 90,
   "metadata": {},
   "outputs": [
    {
     "data": {
      "text/plain": [
       "(0, 200)"
      ]
     },
     "execution_count": 90,
     "metadata": {},
     "output_type": "execute_result"
    },
    {
     "data": {
      "image/png": "[encoded data removed]",
      "text/plain": [
       "<matplotlib.figure.Figure at 0x1a7b7b0cf8>"
      ]
     },
     "metadata": {},
     "output_type": "display_data"
    }
   ],
   "source": [
    "x2 = pd.Series(rec_info_count[rec_info_count[\"Algorithm\"]==\"TagSimilarity\"]['count'])\n",
    "ax = sns.distplot(x2,bins=200)\n",
    "ax.set_xlim(0,200)"
   ]
  },
  {
   "cell_type": "code",
   "execution_count": 88,
   "metadata": {
    "scrolled": true
   },
   "outputs": [
    {
     "data": {
      "text/plain": [
       "(0, 1000)"
      ]
     },
     "execution_count": 88,
     "metadata": {},
     "output_type": "execute_result"
    },
    {
     "data": {
      "image/png": "[encoded data removed]",
      "text/plain": [
       "<matplotlib.figure.Figure at 0x1a7b26f940>"
      ]
     },
     "metadata": {},
     "output_type": "display_data"
    }
   ],
   "source": [
    "x3 = pd.Series(rec_info_count[rec_info_count[\"Algorithm\"]==\"FilmReleaseDate\"]['count'])\n",
    "ax = sns.distplot(x3,bins=200)\n",
    "ax.set_xlim(0,1000)"
   ]
  },
  {
   "cell_type": "markdown",
   "metadata": {},
   "source": [
    "### Distribution of popularity, avgRating, age of all recommendations"
   ]
  },
  {
   "cell_type": "code",
   "execution_count": 10,
   "metadata": {},
   "outputs": [
    {
     "data": {
      "text/plain": [
       "(0, 4000)"
      ]
     },
     "execution_count": 10,
     "metadata": {},
     "output_type": "execute_result"
    },
    {
     "data": {
      "image/png": "[encoded data removed]",
      "text/plain": [
       "<matplotlib.figure.Figure at 0x1a0d4a48d0>"
      ]
     },
     "metadata": {},
     "output_type": "display_data"
    }
   ],
   "source": [
    "x1 = pd.Series(rec_info['popularityLastYear'], name=\"popularityLastYear\")\n",
    "ax = sns.distplot(x1)\n",
    "ax.set_xlim(0,4000)"
   ]
  },
  {
   "cell_type": "code",
   "execution_count": 11,
   "metadata": {},
   "outputs": [
    {
     "data": {
      "text/plain": [
       "<matplotlib.axes._subplots.AxesSubplot at 0x107772860>"
      ]
     },
     "execution_count": 11,
     "metadata": {},
     "output_type": "execute_result"
    },
    {
     "data": {
      "image/png": "[encoded data removed]",
      "text/plain": [
       "<matplotlib.figure.Figure at 0x1a0d4a4160>"
      ]
     },
     "metadata": {},
     "output_type": "display_data"
    }
   ],
   "source": [
    "x2 = pd.Series(rec_info['avgRating'], name=\"avgRating\")\n",
    "sns.distplot(x2)"
   ]
  },
  {
   "cell_type": "code",
   "execution_count": 19,
   "metadata": {
    "scrolled": true
   },
   "outputs": [
    {
     "data": {
      "image/png": "[encoded data removed]",
      "text/plain": [
       "<matplotlib.figure.Figure at 0x1a16f86b00>"
      ]
     },
     "metadata": {},
     "output_type": "display_data"
    }
   ],
   "source": [
    "x3 = pd.Series(rec_info['age_month'], name=\"ageMonth\")\n",
    "ax = sns.distplot(x3)"
   ]
  },
  {
   "cell_type": "markdown",
   "metadata": {},
   "source": [
    "### Distribution of popularity, avgRating, age of all recommendations, grouped by Algorithm"
   ]
  },
  {
   "cell_type": "code",
   "execution_count": 56,
   "metadata": {
    "scrolled": true
   },
   "outputs": [
    {
     "data": {
      "text/plain": [
       "(0, 30000)"
      ]
     },
     "execution_count": 56,
     "metadata": {},
     "output_type": "execute_result"
    },
    {
     "data": {
      "image/png": "[encoded data removed]",
      "text/plain": [
       "<matplotlib.figure.Figure at 0x109487cf8>"
      ]
     },
     "metadata": {},
     "output_type": "display_data"
    }
   ],
   "source": [
    "# x = np.random.randn(1000, 3)\n",
    "\n",
    "as_list = rec_info_small['avgRating'].hist(by=rec_info_small['Algorithm'],figsize=(12,10),bins=100)\n",
    "\n",
    "as_list[1][0].set_xlim(0,5)\n",
    "as_list[1][0].set_ylim(0,30000)\n",
    "# The code below works, but the font size is really small\n",
    "# g = sns.FacetGrid(movie_data_rec_small, col=\"recommenderId\", col_wrap=2, size=10)\n",
    "# g = g.map(plt.hist, \"popularity\", bins=100)\n",
    "\n"
   ]
  },
  {
   "cell_type": "code",
   "execution_count": 55,
   "metadata": {},
   "outputs": [
    {
     "data": {
      "text/plain": [
       "(0, 40000)"
      ]
     },
     "execution_count": 55,
     "metadata": {},
     "output_type": "execute_result"
    },
    {
     "data": {
      "image/png": "[encoded data removed]",
      "text/plain": [
       "<matplotlib.figure.Figure at 0x10a5b8f98>"
      ]
     },
     "metadata": {},
     "output_type": "display_data"
    }
   ],
   "source": [
    "# Zoom in and set the same range for all graphs\n",
    "as_list = rec_info_small['popularityLastYear'].hist(by=rec_info_small['Algorithm'],figsize=(12,10),bins=100)\n",
    "\n",
    "as_list[0][0].set_xlim(0,8000)\n",
    "as_list[0][0].set_ylim(0,40000)\n",
    "\n",
    "as_list[0][1].set_xlim(0,8000)\n",
    "as_list[0][1].set_ylim(0,40000)\n",
    "\n",
    "as_list[1][0].set_xlim(0,8000)\n",
    "as_list[1][0].set_ylim(0,40000)\n",
    "\n",
    "as_list[1][1].set_xlim(0,8000)\n",
    "as_list[1][1].set_ylim(0,40000)"
   ]
  },
  {
   "cell_type": "code",
   "execution_count": 50,
   "metadata": {
    "scrolled": false
   },
   "outputs": [
    {
     "data": {
      "text/plain": [
       "(0, 100000)"
      ]
     },
     "execution_count": 50,
     "metadata": {},
     "output_type": "execute_result"
    },
    {
     "data": {
      "image/png": "[encoded data removed]",
      "text/plain": [
       "<matplotlib.figure.Figure at 0x10eb93a20>"
      ]
     },
     "metadata": {},
     "output_type": "display_data"
    }
   ],
   "source": [
    "as_list = rec_info_small['age'].hist(by=rec_info_small['Algorithm'],figsize=(12,10),bins=100)\n",
    "as_list[0][0].set_xlim(0,35000)\n",
    "as_list[0][0].set_ylim(0,100000)\n",
    "\n",
    "as_list[0][1].set_xlim(0,35000)\n",
    "as_list[0][1].set_ylim(0,100000)\n",
    "\n",
    "as_list[1][0].set_xlim(0,35000)\n",
    "as_list[1][0].set_ylim(0,100000)\n",
    "\n",
    "as_list[1][1].set_xlim(0,35000)\n",
    "as_list[1][1].set_ylim(0,100000)"
   ]
  },
  {
   "cell_type": "markdown",
   "metadata": {},
   "source": [
    "###  Boxplots of popularity, avgRating and age of all recommendations, grouped by Algorithms ####"
   ]
  },
  {
   "cell_type": "code",
   "execution_count": 25,
   "metadata": {},
   "outputs": [
    {
     "data": {
      "text/plain": [
       "<matplotlib.axes._subplots.AxesSubplot at 0x11146aa20>"
      ]
     },
     "execution_count": 25,
     "metadata": {},
     "output_type": "execute_result"
    },
    {
     "data": {
      "image/png": "[encoded data removed]",
      "text/plain": [
       "<matplotlib.figure.Figure at 0x10faed4e0>"
      ]
     },
     "metadata": {},
     "output_type": "display_data"
    }
   ],
   "source": [
    "sns.boxplot(x='Algorithm', y='popularityLastYear', data= rec_info_small)"
   ]
  },
  {
   "cell_type": "code",
   "execution_count": 26,
   "metadata": {},
   "outputs": [
    {
     "data": {
      "text/plain": [
       "<matplotlib.axes._subplots.AxesSubplot at 0x10e918438>"
      ]
     },
     "execution_count": 26,
     "metadata": {},
     "output_type": "execute_result"
    },
    {
     "data": {
      "image/png": "[encoded data removed]",
      "text/plain": [
       "<matplotlib.figure.Figure at 0x12547eda0>"
      ]
     },
     "metadata": {},
     "output_type": "display_data"
    }
   ],
   "source": [
    "sns.boxplot(x='Algorithm', y='avgRating', data= rec_info_small)"
   ]
  },
  {
   "cell_type": "code",
   "execution_count": 47,
   "metadata": {},
   "outputs": [
    {
     "data": {
      "image/png": "[encoded data removed]",
      "text/plain": [
       "<matplotlib.figure.Figure at 0x10a9300f0>"
      ]
     },
     "metadata": {},
     "output_type": "display_data"
    }
   ],
   "source": [
    "bplt = sns.boxplot(x='Algorithm', y='age', data= rec_info_small)\n",
    "\n",
    "# Set y limit\n",
    "\n",
    "# axes = bplt.axes\n",
    "# axes.set_ylim(0,20000)"
   ]
  }
 ],
 "metadata": {
  "kernelspec": {
   "display_name": "Python 3",
   "language": "python",
   "name": "python3"
  },
  "language_info": {
   "codemirror_mode": {
    "name": "ipython",
    "version": 3
   },
   "file_extension": ".py",
   "mimetype": "text/x-python",
   "name": "python",
   "nbconvert_exporter": "python",
   "pygments_lexer": "ipython3",
   "version": "3.6.4"
  }
 },
 "nbformat": 4,
 "nbformat_minor": 2
}
